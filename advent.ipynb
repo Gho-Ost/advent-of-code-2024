{
 "cells": [
  {
   "cell_type": "markdown",
   "metadata": {},
   "source": [
    "# Day1"
   ]
  },
  {
   "cell_type": "code",
   "execution_count": null,
   "metadata": {},
   "outputs": [],
   "source": [
    "from collections import Counter as C\n",
    "import numpy as np"
   ]
  },
  {
   "cell_type": "code",
   "execution_count": null,
   "metadata": {},
   "outputs": [
    {
     "data": {
      "text/plain": [
       "1388114"
      ]
     },
     "execution_count": 44,
     "metadata": {},
     "output_type": "execute_result"
    }
   ],
   "source": [
    "[sum(np.abs(np.diff(np.array([np.sort(a[0]), np.sort(a[1])], dtype=np.int64), axis=0)[0])) for a in [np.loadtxt(\"data/input1.txt\").T]][0]"
   ]
  },
  {
   "cell_type": "code",
   "execution_count": null,
   "metadata": {},
   "outputs": [
    {
     "data": {
      "text/plain": [
       "23529853.0"
      ]
     },
     "execution_count": 46,
     "metadata": {},
     "output_type": "execute_result"
    }
   ],
   "source": [
    "[sum([x*C(a[1])[x] for x in a[0]]) for a in [np.loadtxt(\"data/input1.txt\").T]][0]"
   ]
  },
  {
   "cell_type": "markdown",
   "metadata": {},
   "source": [
    "## Day2"
   ]
  },
  {
   "cell_type": "code",
   "execution_count": null,
   "metadata": {},
   "outputs": [],
   "source": [
    "import numpy as np"
   ]
  },
  {
   "cell_type": "code",
   "execution_count": null,
   "metadata": {},
   "outputs": [
    {
     "data": {
      "text/plain": [
       "585"
      ]
     },
     "execution_count": 18,
     "metadata": {},
     "output_type": "execute_result"
    }
   ],
   "source": [
    "sum([(((np.all(r>0)) | np.all(r<0)) & (np.all(np.abs(r)<=3)) & (np.all(np.abs(r)>0))) for r in [np.diff(list(map(int, a.split(\" \")))) for a in open(\"data/input2.txt\").readlines()]])"
   ]
  },
  {
   "cell_type": "code",
   "execution_count": null,
   "metadata": {},
   "outputs": [
    {
     "data": {
      "text/plain": [
       "626"
      ]
     },
     "execution_count": 47,
     "metadata": {},
     "output_type": "execute_result"
    }
   ],
   "source": [
    "sum([np.any(np.array(list(map(\n",
    "    lambda x: (((np.all(np.diff(x)>0)) | np.all(np.diff(x)<0)) & (np.all(np.abs(np.diff(x))<=3)) & (np.all(np.abs(np.diff(x))>0))),\n",
    "     [np.array(r[:i] + r[i+1:]) for i in range(len(r)+1)]\n",
    "     )))) \\\n",
    "     for r in [list(map(int, a.split(\" \"))) for a in open(\"data/input2.txt\").readlines()]\n",
    "     ])"
   ]
  },
  {
   "cell_type": "code",
   "execution_count": null,
   "metadata": {},
   "outputs": [],
   "source": [
    "sum([np.any(np.array(list(map(lambda x: (((np.all(np.diff(x)>0)) | np.all(np.diff(x)<0)) & (np.all(np.abs(np.diff(x))<=3)) & (np.all(np.abs(np.diff(x))>0))), [np.array(r[:i] + r[i+1:]) for i in range(len(r)+1)])))) for r in [list(map(int, a.split(\" \"))) for a in open(\"data/input2.txt\").readlines()]])"
   ]
  },
  {
   "cell_type": "markdown",
   "metadata": {},
   "source": [
    "## Day3"
   ]
  },
  {
   "cell_type": "code",
   "execution_count": 1,
   "metadata": {},
   "outputs": [],
   "source": [
    "import re"
   ]
  },
  {
   "cell_type": "code",
   "execution_count": null,
   "metadata": {},
   "outputs": [
    {
     "data": {
      "text/plain": [
       "170778545"
      ]
     },
     "execution_count": 18,
     "metadata": {},
     "output_type": "execute_result"
    }
   ],
   "source": [
    "sum([int(a[4:]) * int(b[:-1]) for a, b in list(map(lambda x: x.split(\",\"), re.findall(r\"mul\\(\\d{1,3},\\d{1,3}\\)\", \"\".join(open(\"data/input3.txt\").readlines()))))])"
   ]
  },
  {
   "cell_type": "code",
   "execution_count": 42,
   "metadata": {},
   "outputs": [
    {
     "data": {
      "text/plain": [
       "82868252"
      ]
     },
     "execution_count": 42,
     "metadata": {},
     "output_type": "execute_result"
    }
   ],
   "source": [
    "sum(\n",
    "    [int(a[4:]) * int(b[:-1]) for a, b in \\\n",
    "        list(\n",
    "            map(\n",
    "                lambda x: x.split(\",\"), \\\n",
    "                re.findall(\n",
    "                    r\"mul\\(\\d{1,3},\\d{1,3}\\)\", \\\n",
    "                    re.sub(\n",
    "                        r\"don't\\(\\)(?:mul\\(\\d{1,3},\\d{1,3}\\))*\",\n",
    "                        \"\",\n",
    "                        \"\".join(\n",
    "                            list(\n",
    "                                re.findall(\n",
    "                                    r\"mul\\(\\d{1,3},\\d{1,3}\\)|do\\(\\)|don't\\(\\)\", \\\n",
    "                                    \"\".join(open(\"data/input3.txt\").readlines())\n",
    "                                )\n",
    "                            )\n",
    "                        ) \n",
    "                    )\n",
    "                )\n",
    "            )\n",
    "        )\n",
    "    ]\n",
    ")"
   ]
  },
  {
   "cell_type": "code",
   "execution_count": 43,
   "metadata": {},
   "outputs": [
    {
     "data": {
      "text/plain": [
       "82868252"
      ]
     },
     "execution_count": 43,
     "metadata": {},
     "output_type": "execute_result"
    }
   ],
   "source": [
    "sum([int(a[4:]) * int(b[:-1]) for a, b in list(map(lambda x: x.split(\",\"), re.findall(r\"mul\\(\\d{1,3},\\d{1,3}\\)\", re.sub(r\"don't\\(\\)(?:mul\\(\\d{1,3},\\d{1,3}\\))*\", \"\", \"\".join(list(re.findall(r\"mul\\(\\d{1,3},\\d{1,3}\\)|do\\(\\)|don't\\(\\)\", \"\".join(open(\"data/input3.txt\").readlines()))))))))])"
   ]
  },
  {
   "cell_type": "markdown",
   "metadata": {},
   "source": [
    "## Day4"
   ]
  },
  {
   "cell_type": "code",
   "execution_count": 1,
   "metadata": {},
   "outputs": [],
   "source": [
    "import numpy as np\n",
    "from numpy.lib.stride_tricks import sliding_window_view"
   ]
  },
  {
   "cell_type": "code",
   "execution_count": null,
   "metadata": {},
   "outputs": [],
   "source": [
    "sum([sum([np.sum([[np.all(np.array([\"X\", \"M\", \"A\", \"S\"]) == x[0]) for x in a] for a in sliding_window_view(np.rot90(arr, n), (1, 4))]) for n in range(4) for arr in [np.array([[m for m in z[:-1]] for z in open(\"data/input4.txt\").readlines()])]]), sum([sum([sum([np.all(window == np.array([\"X\", \"M\", \"A\", \"S\"])) for window in sliding_window_view(np.diagonal(np.rot90(arr, n), i), 4)]) for i in range(-np.rot90(arr, n).shape[0]+4, np.rot90(arr, n).shape[0]-3)]) for n in range(4) for arr in [np.array([[m for m in z[:-1]] for z in open(\"data/input4.txt\").readlines()])]])])"
   ]
  },
  {
   "cell_type": "code",
   "execution_count": 3,
   "metadata": {},
   "outputs": [
    {
     "data": {
      "text/plain": [
       "2464"
      ]
     },
     "execution_count": 3,
     "metadata": {},
     "output_type": "execute_result"
    }
   ],
   "source": [
    "sum([\n",
    "    sum([\n",
    "        np.sum([\n",
    "            [\n",
    "                np.all(np.array([\"X\", \"M\", \"A\", \"S\"]) == x[0]) for x in a\n",
    "            ] \n",
    "            \n",
    "            for a in sliding_window_view(np.rot90(arr, n), (1, 4))\n",
    "        ]) \n",
    "        \n",
    "        for n in range(4)\n",
    "        for arr in [np.array([[m for m in z[:-1]] for z in open(\"data/input4.txt\").readlines()])]\n",
    "    ]), \\\n",
    "    \n",
    "    sum([\n",
    "        sum([\n",
    "            sum([\n",
    "                np.all(window == np.array([\"X\", \"M\", \"A\", \"S\"])) \\\n",
    "                for window in sliding_window_view(np.diagonal(np.rot90(arr, n), i), 4)\n",
    "            ]) \\\n",
    "            \n",
    "            for i in range(-np.rot90(arr, n).shape[0]+4, np.rot90(arr, n).shape[0]-3)\n",
    "        ]) \\\n",
    "            \n",
    "        for n in range(4)\n",
    "        for arr in [np.array([[m for m in z[:-1]] for z in open(\"data/input4.txt\").readlines()])]\n",
    "    ])               \n",
    "])"
   ]
  },
  {
   "cell_type": "code",
   "execution_count": 7,
   "metadata": {},
   "outputs": [
    {
     "data": {
      "text/plain": [
       "1982"
      ]
     },
     "execution_count": 7,
     "metadata": {},
     "output_type": "execute_result"
    }
   ],
   "source": [
    "[sum([sum([np.any([np.all(np.rot90(np.array([[\"M\", \"\", \"M\"], [\"\", \"A\", \"\"], [\"S\", \"\", \"S\"]]), x)[[0,0,1,2,2],[0,2,1,0,2]] == window[[0,0,1,2,2],[0,2,1,0,2]]) for x in range(4)]) for window in rwindow]) for rwindow in sliding_window_view(arr, (3,3))]) for arr in [np.array([[m for m in z[:-1]] for z in open(\"data/input4.txt\").readlines()])]][0]"
   ]
  },
  {
   "cell_type": "code",
   "execution_count": 6,
   "metadata": {},
   "outputs": [
    {
     "data": {
      "text/plain": [
       "1982"
      ]
     },
     "execution_count": 6,
     "metadata": {},
     "output_type": "execute_result"
    }
   ],
   "source": [
    "[sum([\n",
    "    sum([\n",
    "        np.any([\n",
    "            np.all(\n",
    "                np.rot90(\n",
    "                    np.array([[\"M\", \"\", \"M\"], [\"\", \"A\", \"\"], [\"S\", \"\", \"S\"]]), x\n",
    "                )[[0,0,1,2,2],[0,2,1,0,2]] == window[[0,0,1,2,2],[0,2,1,0,2]]\n",
    "            ) \n",
    "            \n",
    "            for x in range(4)\n",
    "        ])\n",
    "        \n",
    "        for window in rwindow\n",
    "    ])\n",
    "    \n",
    "    for rwindow in sliding_window_view(arr, (3,3))\n",
    "]) for arr in [np.array([[m for m in z[:-1]] for z in open(\"data/input4.txt\").readlines()])]][0]"
   ]
  }
 ],
 "metadata": {
  "kernelspec": {
   "display_name": "Python 3",
   "language": "python",
   "name": "python3"
  },
  "language_info": {
   "codemirror_mode": {
    "name": "ipython",
    "version": 3
   },
   "file_extension": ".py",
   "mimetype": "text/x-python",
   "name": "python",
   "nbconvert_exporter": "python",
   "pygments_lexer": "ipython3",
   "version": "3.11.0"
  }
 },
 "nbformat": 4,
 "nbformat_minor": 2
}
