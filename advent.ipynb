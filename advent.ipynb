{
 "cells": [
  {
   "cell_type": "markdown",
   "metadata": {},
   "source": [
    "# Day1"
   ]
  },
  {
   "cell_type": "code",
   "execution_count": null,
   "metadata": {},
   "outputs": [],
   "source": [
    "from collections import Counter as C\n",
    "import numpy as np"
   ]
  },
  {
   "cell_type": "code",
   "execution_count": null,
   "metadata": {},
   "outputs": [
    {
     "data": {
      "text/plain": [
       "1388114"
      ]
     },
     "execution_count": 44,
     "metadata": {},
     "output_type": "execute_result"
    }
   ],
   "source": [
    "[sum(np.abs(np.diff(np.array([np.sort(a[0]), np.sort(a[1])], dtype=np.int64), axis=0)[0])) for a in [np.loadtxt(\"data/input1.txt\").T]][0]"
   ]
  },
  {
   "cell_type": "code",
   "execution_count": null,
   "metadata": {},
   "outputs": [
    {
     "data": {
      "text/plain": [
       "23529853.0"
      ]
     },
     "execution_count": 46,
     "metadata": {},
     "output_type": "execute_result"
    }
   ],
   "source": [
    "[sum([x*C(a[1])[x] for x in a[0]]) for a in [np.loadtxt(\"data/input1.txt\").T]][0]"
   ]
  },
  {
   "cell_type": "markdown",
   "metadata": {},
   "source": [
    "## Day2"
   ]
  },
  {
   "cell_type": "code",
   "execution_count": null,
   "metadata": {},
   "outputs": [],
   "source": [
    "import numpy as np"
   ]
  },
  {
   "cell_type": "code",
   "execution_count": null,
   "metadata": {},
   "outputs": [
    {
     "data": {
      "text/plain": [
       "585"
      ]
     },
     "execution_count": 18,
     "metadata": {},
     "output_type": "execute_result"
    }
   ],
   "source": [
    "sum([(((np.all(r>0)) | np.all(r<0)) & (np.all(np.abs(r)<=3)) & (np.all(np.abs(r)>0))) for r in [np.diff(list(map(int, a.split(\" \")))) for a in open(\"data/input2.txt\").readlines()]])"
   ]
  },
  {
   "cell_type": "code",
   "execution_count": null,
   "metadata": {},
   "outputs": [
    {
     "data": {
      "text/plain": [
       "626"
      ]
     },
     "execution_count": 47,
     "metadata": {},
     "output_type": "execute_result"
    }
   ],
   "source": [
    "sum([np.any(np.array(list(map(\n",
    "    lambda x: (((np.all(np.diff(x)>0)) | np.all(np.diff(x)<0)) & (np.all(np.abs(np.diff(x))<=3)) & (np.all(np.abs(np.diff(x))>0))),\n",
    "     [np.array(r[:i] + r[i+1:]) for i in range(len(r)+1)]\n",
    "     )))) \\\n",
    "     for r in [list(map(int, a.split(\" \"))) for a in open(\"data/input2.txt\").readlines()]\n",
    "     ])"
   ]
  },
  {
   "cell_type": "code",
   "execution_count": null,
   "metadata": {},
   "outputs": [],
   "source": [
    "sum([np.any(np.array(list(map(lambda x: (((np.all(np.diff(x)>0)) | np.all(np.diff(x)<0)) & (np.all(np.abs(np.diff(x))<=3)) & (np.all(np.abs(np.diff(x))>0))), [np.array(r[:i] + r[i+1:]) for i in range(len(r)+1)])))) for r in [list(map(int, a.split(\" \"))) for a in open(\"data/input2.txt\").readlines()]])"
   ]
  },
  {
   "cell_type": "markdown",
   "metadata": {},
   "source": [
    "## Day3"
   ]
  },
  {
   "cell_type": "code",
   "execution_count": 1,
   "metadata": {},
   "outputs": [],
   "source": [
    "import re"
   ]
  },
  {
   "cell_type": "code",
   "execution_count": null,
   "metadata": {},
   "outputs": [
    {
     "data": {
      "text/plain": [
       "170778545"
      ]
     },
     "execution_count": 18,
     "metadata": {},
     "output_type": "execute_result"
    }
   ],
   "source": [
    "sum([int(a[4:]) * int(b[:-1]) for a, b in list(map(lambda x: x.split(\",\"), re.findall(r\"mul\\(\\d{1,3},\\d{1,3}\\)\", \"\".join(open(\"data/input3.txt\").readlines()))))])"
   ]
  },
  {
   "cell_type": "code",
   "execution_count": 42,
   "metadata": {},
   "outputs": [
    {
     "data": {
      "text/plain": [
       "82868252"
      ]
     },
     "execution_count": 42,
     "metadata": {},
     "output_type": "execute_result"
    }
   ],
   "source": [
    "sum(\n",
    "    [int(a[4:]) * int(b[:-1]) for a, b in \\\n",
    "        list(\n",
    "            map(\n",
    "                lambda x: x.split(\",\"), \\\n",
    "                re.findall(\n",
    "                    r\"mul\\(\\d{1,3},\\d{1,3}\\)\", \\\n",
    "                    re.sub(\n",
    "                        r\"don't\\(\\)(?:mul\\(\\d{1,3},\\d{1,3}\\))*\",\n",
    "                        \"\",\n",
    "                        \"\".join(\n",
    "                            list(\n",
    "                                re.findall(\n",
    "                                    r\"mul\\(\\d{1,3},\\d{1,3}\\)|do\\(\\)|don't\\(\\)\", \\\n",
    "                                    \"\".join(open(\"data/input3.txt\").readlines())\n",
    "                                )\n",
    "                            )\n",
    "                        ) \n",
    "                    )\n",
    "                )\n",
    "            )\n",
    "        )\n",
    "    ]\n",
    ")"
   ]
  },
  {
   "cell_type": "code",
   "execution_count": 43,
   "metadata": {},
   "outputs": [
    {
     "data": {
      "text/plain": [
       "82868252"
      ]
     },
     "execution_count": 43,
     "metadata": {},
     "output_type": "execute_result"
    }
   ],
   "source": [
    "sum([int(a[4:]) * int(b[:-1]) for a, b in list(map(lambda x: x.split(\",\"), re.findall(r\"mul\\(\\d{1,3},\\d{1,3}\\)\", re.sub(r\"don't\\(\\)(?:mul\\(\\d{1,3},\\d{1,3}\\))*\", \"\", \"\".join(list(re.findall(r\"mul\\(\\d{1,3},\\d{1,3}\\)|do\\(\\)|don't\\(\\)\", \"\".join(open(\"data/input3.txt\").readlines()))))))))])"
   ]
  },
  {
   "cell_type": "markdown",
   "metadata": {},
   "source": [
    "## Day4"
   ]
  },
  {
   "cell_type": "code",
   "execution_count": 1,
   "metadata": {},
   "outputs": [],
   "source": [
    "import numpy as np\n",
    "from numpy.lib.stride_tricks import sliding_window_view"
   ]
  },
  {
   "cell_type": "code",
   "execution_count": null,
   "metadata": {},
   "outputs": [],
   "source": [
    "sum([sum([np.sum([[np.all(np.array([\"X\", \"M\", \"A\", \"S\"]) == x[0]) for x in a] for a in sliding_window_view(np.rot90(arr, n), (1, 4))]) for n in range(4) for arr in [np.array([[m for m in z[:-1]] for z in open(\"data/input4.txt\").readlines()])]]), sum([sum([sum([np.all(window == np.array([\"X\", \"M\", \"A\", \"S\"])) for window in sliding_window_view(np.diagonal(np.rot90(arr, n), i), 4)]) for i in range(-np.rot90(arr, n).shape[0]+4, np.rot90(arr, n).shape[0]-3)]) for n in range(4) for arr in [np.array([[m for m in z[:-1]] for z in open(\"data/input4.txt\").readlines()])]])])"
   ]
  },
  {
   "cell_type": "code",
   "execution_count": 3,
   "metadata": {},
   "outputs": [
    {
     "data": {
      "text/plain": [
       "2464"
      ]
     },
     "execution_count": 3,
     "metadata": {},
     "output_type": "execute_result"
    }
   ],
   "source": [
    "sum([\n",
    "    sum([\n",
    "        np.sum([\n",
    "            [\n",
    "                np.all(np.array([\"X\", \"M\", \"A\", \"S\"]) == x[0]) for x in a\n",
    "            ] \n",
    "            \n",
    "            for a in sliding_window_view(np.rot90(arr, n), (1, 4))\n",
    "        ]) \n",
    "        \n",
    "        for n in range(4)\n",
    "        for arr in [np.array([[m for m in z[:-1]] for z in open(\"data/input4.txt\").readlines()])]\n",
    "    ]), \\\n",
    "    \n",
    "    sum([\n",
    "        sum([\n",
    "            sum([\n",
    "                np.all(window == np.array([\"X\", \"M\", \"A\", \"S\"])) \\\n",
    "                for window in sliding_window_view(np.diagonal(np.rot90(arr, n), i), 4)\n",
    "            ]) \\\n",
    "            \n",
    "            for i in range(-np.rot90(arr, n).shape[0]+4, np.rot90(arr, n).shape[0]-3)\n",
    "        ]) \\\n",
    "            \n",
    "        for n in range(4)\n",
    "        for arr in [np.array([[m for m in z[:-1]] for z in open(\"data/input4.txt\").readlines()])]\n",
    "    ])               \n",
    "])"
   ]
  },
  {
   "cell_type": "code",
   "execution_count": 7,
   "metadata": {},
   "outputs": [
    {
     "data": {
      "text/plain": [
       "1982"
      ]
     },
     "execution_count": 7,
     "metadata": {},
     "output_type": "execute_result"
    }
   ],
   "source": [
    "[sum([sum([np.any([np.all(np.rot90(np.array([[\"M\", \"\", \"M\"], [\"\", \"A\", \"\"], [\"S\", \"\", \"S\"]]), x)[[0,0,1,2,2],[0,2,1,0,2]] == window[[0,0,1,2,2],[0,2,1,0,2]]) for x in range(4)]) for window in rwindow]) for rwindow in sliding_window_view(arr, (3,3))]) for arr in [np.array([[m for m in z[:-1]] for z in open(\"data/input4.txt\").readlines()])]][0]"
   ]
  },
  {
   "cell_type": "code",
   "execution_count": 6,
   "metadata": {},
   "outputs": [
    {
     "data": {
      "text/plain": [
       "1982"
      ]
     },
     "execution_count": 6,
     "metadata": {},
     "output_type": "execute_result"
    }
   ],
   "source": [
    "[sum([\n",
    "    sum([\n",
    "        np.any([\n",
    "            np.all(\n",
    "                np.rot90(\n",
    "                    np.array([[\"M\", \"\", \"M\"], [\"\", \"A\", \"\"], [\"S\", \"\", \"S\"]]), x\n",
    "                )[[0,0,1,2,2],[0,2,1,0,2]] == window[[0,0,1,2,2],[0,2,1,0,2]]\n",
    "            ) \n",
    "            \n",
    "            for x in range(4)\n",
    "        ])\n",
    "        \n",
    "        for window in rwindow\n",
    "    ])\n",
    "    \n",
    "    for rwindow in sliding_window_view(arr, (3,3))\n",
    "]) for arr in [np.array([[m for m in z[:-1]] for z in open(\"data/input4.txt\").readlines()])]][0]"
   ]
  },
  {
   "cell_type": "markdown",
   "metadata": {},
   "source": [
    "## Day5"
   ]
  },
  {
   "cell_type": "code",
   "execution_count": 9,
   "metadata": {},
   "outputs": [],
   "source": [
    "import numpy as np"
   ]
  },
  {
   "cell_type": "code",
   "execution_count": 117,
   "metadata": {},
   "outputs": [
    {
     "name": "stderr",
     "output_type": "stream",
     "text": [
      "C:\\Users\\barte\\AppData\\Local\\Temp\\ipykernel_9896\\3374753096.py:1: VisibleDeprecationWarning: Creating an ndarray from ragged nested sequences (which is a list-or-tuple of lists-or-tuples-or ndarrays with different lengths or shapes) is deprecated. If you meant to do this, you must specify 'dtype=object' when creating the ndarray.\n",
      "  sum([(a:=list(map(lambda x: x.split(\"\\n\"), \"\".join(open(\"data/input5.txt\").readlines())[:-1].split(\"\\n\\n\")))), (conds:=np.array([list(map(int, x.split(\"|\"))) for x in a[0]])), (updates:=np.array([list(map(int, x.split(\",\"))) for x in a[1]])), (cond_ids:=dict([[num, conds[(np.where(conds[:,0] == num)[0]), 1]] for num in np.unique(conds[:,0])])), list(map(lambda u: u[len(u)//2] if not np.any([np.any(np.isin(u[:i], cond_ids.get(u[i], {-1,}))) for i in range(len(u))]) else 0, updates))][4])\n"
     ]
    },
    {
     "data": {
      "text/plain": [
       "7307"
      ]
     },
     "execution_count": 117,
     "metadata": {},
     "output_type": "execute_result"
    }
   ],
   "source": [
    "sum([(a:=list(map(lambda x: x.split(\"\\n\"), \"\".join(open(\"data/input5.txt\").readlines())[:-1].split(\"\\n\\n\")))), (conds:=np.array([list(map(int, x.split(\"|\"))) for x in a[0]])), (updates:=np.array([list(map(int, x.split(\",\"))) for x in a[1]])), (cond_ids:=dict([[num, conds[(np.where(conds[:,0] == num)[0]), 1]] for num in np.unique(conds[:,0])])), list(map(lambda u: u[len(u)//2] if not np.any([np.any(np.isin(u[:i], cond_ids.get(u[i], {-1,}))) for i in range(len(u))]) else 0, updates))][4])"
   ]
  },
  {
   "cell_type": "code",
   "execution_count": 85,
   "metadata": {},
   "outputs": [
    {
     "name": "stderr",
     "output_type": "stream",
     "text": [
      "C:\\Users\\barte\\AppData\\Local\\Temp\\ipykernel_9896\\3861292322.py:4: VisibleDeprecationWarning: Creating an ndarray from ragged nested sequences (which is a list-or-tuple of lists-or-tuples-or ndarrays with different lengths or shapes) is deprecated. If you meant to do this, you must specify 'dtype=object' when creating the ndarray.\n",
      "  (updates:=np.array([list(map(int, x.split(\",\"))) for x in a[1]])),\n"
     ]
    },
    {
     "data": {
      "text/plain": [
       "7307"
      ]
     },
     "execution_count": 85,
     "metadata": {},
     "output_type": "execute_result"
    }
   ],
   "source": [
    "sum([\n",
    "    (a:=list(map(lambda x: x.split(\"\\n\"), \"\".join(open(\"data/input5.txt\").readlines())[:-1].split(\"\\n\\n\")))),\n",
    "    (conds:=np.array([list(map(int, x.split(\"|\"))) for x in a[0]])),\n",
    "    (updates:=np.array([list(map(int, x.split(\",\"))) for x in a[1]])),\n",
    "    (cond_ids:=dict([[num, conds[(np.where(conds[:,0] == num)[0]), 1]] for num in np.unique(conds[:,0])])),\n",
    "    list(map(lambda u: u[len(u)//2] if not np.any([np.any(np.isin(u[:i], cond_ids.get(u[i], {-1,}))) for i in range(len(u))]) else 0, updates))\n",
    "][4])"
   ]
  },
  {
   "cell_type": "code",
   "execution_count": 116,
   "metadata": {},
   "outputs": [
    {
     "name": "stderr",
     "output_type": "stream",
     "text": [
      "C:\\Users\\barte\\AppData\\Local\\Temp\\ipykernel_9896\\2437952304.py:1: VisibleDeprecationWarning: Creating an ndarray from ragged nested sequences (which is a list-or-tuple of lists-or-tuples-or ndarrays with different lengths or shapes) is deprecated. If you meant to do this, you must specify 'dtype=object' when creating the ndarray.\n",
      "  sum([(a:=list(map(lambda x: x.split(\"\\n\"), \"\".join(open(\"data/input5.txt\").readlines())[:-1].split(\"\\n\\n\")))),(conds:=np.array([list(map(int, x.split(\"|\"))) for x in a[0]])),(updates:=np.array([list(map(int, x.split(\",\"))) for x in a[1]])),(cond_ids:=dict([[num, conds[(np.where(conds[:,0] == num)[0]), 1]] for num in np.unique(conds[:,0])])),(wrong_updates:=updates[[np.any([np.any(np.isin(u[:i], cond_ids.get(u[i], {-1,}))) for i in range(len(u))]) for u in updates]]),[(b:=[s[0] for s in sorted([[i, [x for x in cond_ids.get(i, [-1]) if x in set(u)]] for i in u], reverse=True, key=lambda x: len(x[1]))])[len(b)//2] for u in wrong_updates]][5])\n"
     ]
    },
    {
     "data": {
      "text/plain": [
       "4713"
      ]
     },
     "execution_count": 116,
     "metadata": {},
     "output_type": "execute_result"
    }
   ],
   "source": [
    "sum([(a:=list(map(lambda x: x.split(\"\\n\"), \"\".join(open(\"data/input5.txt\").readlines())[:-1].split(\"\\n\\n\")))),(conds:=np.array([list(map(int, x.split(\"|\"))) for x in a[0]])),(updates:=np.array([list(map(int, x.split(\",\"))) for x in a[1]])),(cond_ids:=dict([[num, conds[(np.where(conds[:,0] == num)[0]), 1]] for num in np.unique(conds[:,0])])),(wrong_updates:=updates[[np.any([np.any(np.isin(u[:i], cond_ids.get(u[i], {-1,}))) for i in range(len(u))]) for u in updates]]),[(b:=[s[0] for s in sorted([[i, [x for x in cond_ids.get(i, [-1]) if x in set(u)]] for i in u], reverse=True, key=lambda x: len(x[1]))])[len(b)//2] for u in wrong_updates]][5])"
   ]
  },
  {
   "cell_type": "code",
   "execution_count": 114,
   "metadata": {},
   "outputs": [
    {
     "name": "stderr",
     "output_type": "stream",
     "text": [
      "C:\\Users\\barte\\AppData\\Local\\Temp\\ipykernel_9896\\3296114357.py:4: VisibleDeprecationWarning: Creating an ndarray from ragged nested sequences (which is a list-or-tuple of lists-or-tuples-or ndarrays with different lengths or shapes) is deprecated. If you meant to do this, you must specify 'dtype=object' when creating the ndarray.\n",
      "  (updates:=np.array([list(map(int, x.split(\",\"))) for x in a[1]])),\n"
     ]
    },
    {
     "data": {
      "text/plain": [
       "4713"
      ]
     },
     "execution_count": 114,
     "metadata": {},
     "output_type": "execute_result"
    }
   ],
   "source": [
    "sum([\n",
    "    (a:=list(map(lambda x: x.split(\"\\n\"), \"\".join(open(\"data/input5.txt\").readlines())[:-1].split(\"\\n\\n\")))),\n",
    "    (conds:=np.array([list(map(int, x.split(\"|\"))) for x in a[0]])),\n",
    "    (updates:=np.array([list(map(int, x.split(\",\"))) for x in a[1]])),\n",
    "    (cond_ids:=dict([[num, conds[(np.where(conds[:,0] == num)[0]), 1]] for num in np.unique(conds[:,0])])),\n",
    "    (wrong_updates:=updates[[np.any([np.any(np.isin(u[:i], cond_ids.get(u[i], {-1,}))) for i in range(len(u))]) for u in updates]]),\n",
    "    [(b:=[s[0] for s in sorted([[i, [x for x in cond_ids.get(i, [-1]) if x in set(u)]] for i in u], reverse=True, key=lambda x: len(x[1]))])[len(b)//2] for u in wrong_updates]\n",
    "][5])"
   ]
  },
  {
   "cell_type": "markdown",
   "metadata": {},
   "source": [
    "## Day6"
   ]
  },
  {
   "cell_type": "code",
   "execution_count": 16,
   "metadata": {},
   "outputs": [],
   "source": [
    "import numpy as np\n",
    "from itertools import cycle"
   ]
  },
  {
   "cell_type": "code",
   "execution_count": 130,
   "metadata": {},
   "outputs": [
    {
     "data": {
      "text/plain": [
       "5531"
      ]
     },
     "execution_count": 130,
     "metadata": {},
     "output_type": "execute_result"
    }
   ],
   "source": [
    "arr = np.array([[y for y in x] for x in \"\".join(open(\"data/input6.txt\").readlines()).split(\"\\n\")[:-1]])\n",
    "pos_row, pos_col = [x[0] for x in np.where(arr == \"^\")]\n",
    "\n",
    "# stopping condition: guard leaves the field // position = [6,4] and rotation = 0\n",
    "i = 0\n",
    "for rot in cycle([1]):\n",
    "    blocks = np.where(arr[:pos_row,pos_col] == \"#\")[0]\n",
    "    if len(blocks) == 0:\n",
    "        arr[:pos_row, pos_col] = \"X\"\n",
    "        break\n",
    "    break_row = np.max(blocks)+1\n",
    "    arr[break_row:pos_row,pos_col] = \"X\"\n",
    "    \n",
    "    pos_row = len(arr[0]) - (pos_col+1)\n",
    "    pos_col = break_row\n",
    "    arr=np.rot90(arr, rot)\n",
    "    i += 1\n",
    "    \n",
    "sum([sum([1 if y == \"X\" else 0 for y in x]) for x in arr]) + 1"
   ]
  },
  {
   "cell_type": "code",
   "execution_count": null,
   "metadata": {},
   "outputs": [],
   "source": [
    "org_arr = np.array([[y for y in x] for x in \"\".join(open(\"data/input6.txt\").readlines()).split(\"\\n\")[:-1]])\n",
    "pos_row, pos_col = [x[0] for x in np.where(org_arr == \"^\")]\n",
    "\n",
    "original_position = (pos_row, pos_col)\n",
    "\n",
    "num_valid = 0\n",
    "for i in range(org_arr.shape[0]):\n",
    "    # print(i)\n",
    "    for j in range(org_arr.shape[1]):\n",
    "        if org_arr[i,j] == \"#\" or org_arr[i,j] == \"^\":\n",
    "            continue\n",
    "        \n",
    "        current_rotation = 0\n",
    "\n",
    "        pos_row, pos_col = original_position\n",
    "        arr = org_arr.copy()\n",
    "        arr[i,j] = \"#\"\n",
    "\n",
    "        for rot in cycle([1]):\n",
    "            blocks = np.where(arr[:pos_row,pos_col] == \"#\")[0]\n",
    "            if len(blocks) == 0:\n",
    "                arr[:pos_row, pos_col] = \"X\"\n",
    "                break\n",
    "\n",
    "            break_row = np.max(blocks)+1\n",
    "\n",
    "            if (arr[pos_row, pos_col] == \"X\") and np.all(arr[break_row:pos_row,pos_col] == \"X\") and len(arr[break_row:pos_row,pos_col]) > 0:\n",
    "                num_valid += 1\n",
    "                break\n",
    "\n",
    "            arr[break_row:pos_row,pos_col] = \"X\"\n",
    "\n",
    "            pos_row = len(arr[0]) - (pos_col+1)\n",
    "            pos_col = break_row\n",
    "            arr=np.rot90(arr, rot)\n",
    "            current_rotation = (current_rotation + 1) % 4\n",
    "\n",
    "print(num_valid)"
   ]
  },
  {
   "cell_type": "markdown",
   "metadata": {},
   "source": [
    "# solve by storing the direction in which each tile was passed and check if tiles were passed in this direction already"
   ]
  },
  {
   "cell_type": "code",
   "execution_count": null,
   "metadata": {},
   "outputs": [],
   "source": [
    "res = 2165"
   ]
  },
  {
   "cell_type": "code",
   "execution_count": 6,
   "metadata": {},
   "outputs": [
    {
     "data": {
      "text/plain": [
       "'....#.....\\n.........#\\n..........\\n..#.......\\n.......#..\\n..........\\n.#..^.....\\n........#.\\n#.........\\n......#...'"
      ]
     },
     "execution_count": 6,
     "metadata": {},
     "output_type": "execute_result"
    }
   ],
   "source": [
    "test_input = \"\"\"....#.....\n",
    ".........#\n",
    "..........\n",
    "..#.......\n",
    ".......#..\n",
    "..........\n",
    ".#..^.....\n",
    "........#.\n",
    "#.........\n",
    "......#...\"\"\"\n",
    "\n",
    "test_input"
   ]
  },
  {
   "cell_type": "markdown",
   "metadata": {},
   "source": [
    "## Day7"
   ]
  },
  {
   "cell_type": "code",
   "execution_count": 54,
   "metadata": {},
   "outputs": [],
   "source": [
    "import numpy as np\n",
    "from itertools import product"
   ]
  },
  {
   "cell_type": "code",
   "execution_count": 91,
   "metadata": {},
   "outputs": [
    {
     "data": {
      "text/plain": [
       "2299996598890"
      ]
     },
     "execution_count": 91,
     "metadata": {},
     "output_type": "execute_result"
    }
   ],
   "source": [
    "sum([res if np.any([res == eval((\"(\"*(len(nums)-2)) + \"\".join([nums[k] + \")\"*bool(k) + t[k] for k in range(len(nums)-1)] + [nums[-1]])) for t in list(product([\"+\", \"*\"], repeat=len(nums)-1))]) else 0 for res, nums in [[[int(a), b.split(\" \")] for a, b in [i.split(\": \")]][0] for i in \"\".join(open(\"data/input7.txt\").readlines()).split(\"\\n\")[:-1]]])"
   ]
  },
  {
   "cell_type": "code",
   "execution_count": 154,
   "metadata": {},
   "outputs": [
    {
     "data": {
      "text/plain": [
       "362646859298554"
      ]
     },
     "execution_count": 154,
     "metadata": {},
     "output_type": "execute_result"
    }
   ],
   "source": [
    "e = 0\n",
    "for res, nums in [[[int(a), b.split(\" \")] for a, b in [i.split(\": \")]][0] for i in \"\".join(open(\"data/input7.txt\").readlines()).split(\"\\n\")[:-1]]:\n",
    "# for res, nums in [[[int(a), b.split(\" \")] for a, b in [i.split(\": \")]][0] for i in test_input.split(\"\\n\")[:-1]]:\n",
    "    for t in list(product([\"+\", \"*\", \"||\"], repeat=len(nums)-1)):\n",
    "        r = nums[0]\n",
    "        for it, op in enumerate(t):\n",
    "            if op == \"||\":\n",
    "                r += nums[it+1]\n",
    "            else:\n",
    "                r = str(eval(r + op + nums[it+1]))\n",
    "\n",
    "        if len(r) != len(str(res)):\n",
    "            continue\n",
    "        \n",
    "        if int(r) == res:\n",
    "            e += res\n",
    "            break\n",
    "e    "
   ]
  },
  {
   "cell_type": "markdown",
   "metadata": {},
   "source": [
    "## Day8"
   ]
  },
  {
   "cell_type": "code",
   "execution_count": 1,
   "metadata": {},
   "outputs": [],
   "source": [
    "import numpy as np\n",
    "from itertools import combinations"
   ]
  },
  {
   "cell_type": "code",
   "execution_count": 17,
   "metadata": {},
   "outputs": [
    {
     "data": {
      "text/plain": [
       "293"
      ]
     },
     "execution_count": 17,
     "metadata": {},
     "output_type": "execute_result"
    }
   ],
   "source": [
    "[np.unique(np.concatenate([np.concatenate([np.stack([b + (b-a) if (np.all((b + (b-a)) < arr.shape) and np.all((b + (b-a)) >= np.array([0,0]))) else np.array([-1,-1]), a - (b-a) if (np.all((a - (b-a)) < arr.shape) and np.all((a - (b-a)) >= np.array([0,0]))) else np.array([-1,-1])]) for a,b in list(combinations(np.stack(np.where(arr==ch)).T, 2))]) for ch in np.unique(arr) if ch != \".\"]), axis=0).shape[0] for arr in [np.array([[y for y in x] for x in \"\".join(open(\"data/input8.txt\").readlines()).split(\"\\n\")[:-1]])]][0] - 1"
   ]
  },
  {
   "cell_type": "code",
   "execution_count": 16,
   "metadata": {},
   "outputs": [
    {
     "data": {
      "text/plain": [
       "293"
      ]
     },
     "execution_count": 16,
     "metadata": {},
     "output_type": "execute_result"
    }
   ],
   "source": [
    "[np.unique(np.concatenate([\n",
    "    np.concatenate([\n",
    "        np.stack([   \n",
    "            b + (b-a) if (np.all((b + (b-a)) < arr.shape) and np.all((b + (b-a)) >= np.array([0,0]))) else np.array([-1,-1]),\n",
    "            a - (b-a) if (np.all((a - (b-a)) < arr.shape) and np.all((a - (b-a)) >= np.array([0,0]))) else np.array([-1,-1])\n",
    "        ])\n",
    "        \n",
    "        for a,b in list(combinations(np.stack(np.where(arr==ch)).T, 2))\n",
    "    ])\n",
    "    \n",
    "    for ch in np.unique(arr) if ch != \".\"\n",
    "]), axis=0).shape[0] for arr in [np.array([[y for y in x] for x in \"\".join(open(\"data/input8.txt\").readlines()).split(\"\\n\")[:-1]])]][0] - 1"
   ]
  },
  {
   "cell_type": "code",
   "execution_count": null,
   "metadata": {},
   "outputs": [],
   "source": [
    "[np.unique(np.concatenate([np.concatenate([np.concatenate([np.stack([[b + i*(b-a) if (np.all((b + i*(b-a)) < arr.shape) and np.all((b + i*(b-a)) >= np.array([0,0]))) else np.array([-1,-1]), a - i*(b-a) if (np.all((a - i*(b-a)) < arr.shape) and np.all((a - i*(b-a)) >= np.array([0,0]))) else np.array([-1,-1])] for i in range(50)]).reshape(50*2, 2)]) for a,b in list(combinations(np.stack(np.where(arr==ch)).T, 2))]) for ch in np.unique(arr) if ch != \".\"]), axis=0).shape[0] for arr in [np.array([[y for y in x] for x in \"\".join(open(\"data/input8.txt\").readlines()).split(\"\\n\")[:-1]])]][0] - 1"
   ]
  },
  {
   "cell_type": "code",
   "execution_count": 76,
   "metadata": {},
   "outputs": [
    {
     "data": {
      "text/plain": [
       "934"
      ]
     },
     "execution_count": 76,
     "metadata": {},
     "output_type": "execute_result"
    }
   ],
   "source": [
    "[np.unique(np.concatenate([\n",
    "    np.concatenate([\n",
    "        np.concatenate([ \n",
    "            np.stack([\n",
    "                [b + i*(b-a) if (np.all((b + i*(b-a)) < arr.shape) and np.all((b + i*(b-a)) >= np.array([0,0]))) else np.array([-1,-1]),\n",
    "                a - i*(b-a) if (np.all((a - i*(b-a)) < arr.shape) and np.all((a - i*(b-a)) >= np.array([0,0]))) else np.array([-1,-1])]\n",
    "                for i in range(50)\n",
    "            ]).reshape(50*2, 2)\n",
    "        ])\n",
    "        \n",
    "        for a,b in list(combinations(np.stack(np.where(arr==ch)).T, 2))\n",
    "    ])\n",
    "    \n",
    "    for ch in np.unique(arr) if ch != \".\"\n",
    "]), axis=0).shape[0] for arr in [np.array([[y for y in x] for x in \"\".join(open(\"data/input8.txt\").readlines()).split(\"\\n\")[:-1]])]][0] - 1"
   ]
  },
  {
   "cell_type": "markdown",
   "metadata": {},
   "source": [
    "## Day9"
   ]
  },
  {
   "cell_type": "code",
   "execution_count": 68,
   "metadata": {},
   "outputs": [],
   "source": [
    "import numpy as np\n",
    "from tqdm import tqdm"
   ]
  },
  {
   "cell_type": "code",
   "execution_count": 73,
   "metadata": {},
   "outputs": [
    {
     "data": {
      "text/plain": [
       "6607511583593"
      ]
     },
     "execution_count": 73,
     "metadata": {},
     "output_type": "execute_result"
    }
   ],
   "source": [
    "int([(x:=np.concatenate([[id//2]*int(b_len) if id%2 == 0 else [-1]*int(b_len) for id, b_len in enumerate(open(\"data/input9.txt\").readline()[:-1])])),(empty_indexes:=np.where(x==-1)[0]),exec(\"x[empty_indexes] = x[np.where(x!=-1)][:-(len(empty_indexes)+1):-1]\"),sum([i*r for i, r in enumerate(x[:x.shape[0]-len(empty_indexes)])])][-1])"
   ]
  },
  {
   "cell_type": "code",
   "execution_count": 72,
   "metadata": {},
   "outputs": [
    {
     "data": {
      "text/plain": [
       "6607511583593"
      ]
     },
     "execution_count": 72,
     "metadata": {},
     "output_type": "execute_result"
    }
   ],
   "source": [
    "int([\n",
    "    (x:=np.concatenate([[id//2]*int(b_len) if id%2 == 0 else [-1]*int(b_len) for id, b_len in enumerate(open(\"data/input9.txt\").readline()[:-1])])),\n",
    "    (empty_indexes:=np.where(x==-1)[0]),\n",
    "    exec(\"x[empty_indexes] = x[np.where(x!=-1)][:-(len(empty_indexes)+1):-1]\"),\n",
    "    sum([i*r for i, r in enumerate(x[:x.shape[0]-len(empty_indexes)])])\n",
    "][-1])"
   ]
  },
  {
   "cell_type": "code",
   "execution_count": null,
   "metadata": {},
   "outputs": [],
   "source": [
    "input1 = open(\"data/input9.txt\").readline()[:-1]"
   ]
  },
  {
   "cell_type": "code",
   "execution_count": null,
   "metadata": {},
   "outputs": [],
   "source": [
    "x = np.concatenate([[id//2]*int(b_len) if id%2 == 0 else [-1]*int(b_len) for id, b_len in enumerate(input1)])\n",
    "empty_indexes = np.where(x==-1)[0]\n",
    "block_ids = x[np.where(x!=-1)]  \n",
    "x[empty_indexes] = block_ids[:-(len(empty_indexes)+1):-1]\n",
    "res = x[:x.shape[0]-len(empty_indexes)]\n",
    "sum([i*r for i, r in enumerate(res)])\n"
   ]
  },
  {
   "cell_type": "code",
   "execution_count": 68,
   "metadata": {},
   "outputs": [
    {
     "data": {
      "text/plain": [
       "6607511583593.0"
      ]
     },
     "execution_count": 68,
     "metadata": {},
     "output_type": "execute_result"
    }
   ],
   "source": [
    "sum([i*r for i, r in enumerate(res)])"
   ]
  },
  {
   "cell_type": "code",
   "execution_count": 65,
   "metadata": {},
   "outputs": [],
   "source": [
    "# test_input = \"2333133121414131402\"\n",
    "test_input = open(\"data/input9.txt\").readline()[:-1]"
   ]
  },
  {
   "cell_type": "code",
   "execution_count": 66,
   "metadata": {},
   "outputs": [
    {
     "data": {
      "text/plain": [
       "array([ 0.000e+00,  0.000e+00, -1.000e+00, ...,  9.999e+03,  9.999e+03,\n",
       "        9.999e+03])"
      ]
     },
     "execution_count": 66,
     "metadata": {},
     "output_type": "execute_result"
    }
   ],
   "source": [
    "x = np.concatenate([[id//2]*int(b_len) if id%2 == 0 else [-1]*int(b_len) for id, b_len in enumerate(test_input)])\n",
    "x"
   ]
  },
  {
   "cell_type": "code",
   "execution_count": 69,
   "metadata": {},
   "outputs": [
    {
     "name": "stderr",
     "output_type": "stream",
     "text": [
      "100%|██████████| 10000/10000 [15:12<00:00, 10.96it/s]  \n"
     ]
    }
   ],
   "source": [
    "empty_space_lengths = [int(a) for a in test_input[1::2]]\n",
    "empty_spaces = [np.array([-1]*int(a)) for a in test_input[1::2]]\n",
    "empty_positions = np.cumsum([int(a) for a in test_input])[:-1:2]\n",
    "\n",
    "for id, block_length in tqdm([[l, int(z)] for l, z in enumerate(test_input[::2])][::-1]):\n",
    "    # print(id, block_length)\n",
    "    for i, empty_length in enumerate(empty_space_lengths):\n",
    "        if block_length <= int(empty_length) and empty_positions[i] < np.where(x==id)[0][0]:\n",
    "            # print(f\"block: {id}, empty position: {i}, block_l: {block_length}, empty_l: {block_length}\")\n",
    "            empty_space_lengths[i] -= block_length\n",
    "            emp = len(empty_spaces[i])-empty_length\n",
    "            empty_spaces[i][emp:emp+block_length] = [id] * block_length\n",
    "            break\n",
    "# empty_spaces"
   ]
  },
  {
   "cell_type": "code",
   "execution_count": 70,
   "metadata": {},
   "outputs": [],
   "source": [
    "empty_fill = np.concatenate(empty_spaces)\n",
    "# empty_fill"
   ]
  },
  {
   "cell_type": "code",
   "execution_count": 71,
   "metadata": {},
   "outputs": [],
   "source": [
    "empty_indexes = np.where(x==-1)[0]\n",
    "block_ids = x[np.where(x!=-1)]\n",
    "\n",
    "# empty_indexes, block_ids"
   ]
  },
  {
   "cell_type": "code",
   "execution_count": 72,
   "metadata": {},
   "outputs": [],
   "source": [
    "for u in np.unique(empty_fill):\n",
    "    x[np.where((x==u)&(u>=0))] = -1\n",
    "x[empty_indexes] = empty_fill\n",
    "x[np.where(x==-1)] = 0\n",
    "# x"
   ]
  },
  {
   "cell_type": "code",
   "execution_count": 73,
   "metadata": {},
   "outputs": [
    {
     "data": {
      "text/plain": [
       "6636608781232.0"
      ]
     },
     "execution_count": 73,
     "metadata": {},
     "output_type": "execute_result"
    }
   ],
   "source": [
    "sum([i*r for i, r in enumerate(x)])"
   ]
  },
  {
   "cell_type": "markdown",
   "metadata": {},
   "source": [
    "## Day10"
   ]
  },
  {
   "cell_type": "code",
   "execution_count": 6,
   "metadata": {},
   "outputs": [],
   "source": [
    "import numpy as np"
   ]
  },
  {
   "cell_type": "code",
   "execution_count": 7,
   "metadata": {},
   "outputs": [
    {
     "data": {
      "text/plain": [
       "array([[0, 3, 4, ..., 0, 1, 0],\n",
       "       [1, 2, 5, ..., 9, 2, 3],\n",
       "       [5, 4, 5, ..., 0, 1, 4],\n",
       "       ...,\n",
       "       [0, 7, 6, ..., 3, 8, 5],\n",
       "       [1, 4, 5, ..., 2, 7, 6],\n",
       "       [2, 3, 4, ..., 1, 2, 3]])"
      ]
     },
     "execution_count": 7,
     "metadata": {},
     "output_type": "execute_result"
    }
   ],
   "source": [
    "top_map = np.array([[int(y) for y in x] for x in \"\".join(open(\"data/input10.txt\").readlines()).split(\"\\n\")[:-1]])\n",
    "top_map"
   ]
  },
  {
   "cell_type": "markdown",
   "metadata": {},
   "source": [
    "### Recursive lambdas:"
   ]
  },
  {
   "cell_type": "code",
   "execution_count": 9,
   "metadata": {},
   "outputs": [
    {
     "data": {
      "text/plain": [
       "682"
      ]
     },
     "execution_count": 9,
     "metadata": {},
     "output_type": "execute_result"
    }
   ],
   "source": [
    "sum(map(lambda s: len(np.unique([d for d in s if not np.all(d==[-1,-1])], axis=0)), list(map(lambda posn: (lambda f, *a: f(f, *a))(lambda rec, posn: posn[0] if [posn[1] == 10,(legal_positions:=np.array(list(filter(lambda x: (x[0]>=0 and x[0]<top_map.shape[0]) and (x[1]>=0 and x[1]<top_map.shape[1]), [[posn[0][0]-1, posn[0][1]], [posn[0][0]+1, posn[0][1]], [posn[0][0], posn[0][1]-1], [posn[0][0], posn[0][1]+1]]))))][0] else [-1,-1] if all((top_map-posn[1])[legal_positions[:,0], legal_positions[:,1]] != 0) else np.vstack([rec(rec, [n_pos, posn[1]+1]) for n_pos in legal_positions if (top_map-posn[1])[*n_pos] == 0]), posn), [[pos, 1] for pos in np.array(np.where(top_map==0)).T]))))"
   ]
  },
  {
   "cell_type": "code",
   "execution_count": 8,
   "metadata": {},
   "outputs": [
    {
     "data": {
      "text/plain": [
       "682"
      ]
     },
     "execution_count": 8,
     "metadata": {},
     "output_type": "execute_result"
    }
   ],
   "source": [
    "sum(\n",
    "    map(lambda s: len(np.unique([d for d in s if not np.all(d==[-1,-1])], axis=0)),\n",
    "    list(map(\n",
    "        lambda posn: \n",
    "            (lambda f, *a: f(f, *a))\n",
    "            (lambda rec, posn: \n",
    "                posn[0] if [posn[1] == 10,\n",
    "                        (legal_positions:=\n",
    "                            np.array(\n",
    "                                list(\n",
    "                                    filter(\n",
    "                                        lambda x: \n",
    "                                        (x[0]>=0 and x[0]<top_map.shape[0]) and \n",
    "                                        (x[1]>=0 and x[1]<top_map.shape[1]), \n",
    "                                    [[posn[0][0]-1, posn[0][1]], [posn[0][0]+1, posn[0][1]], [posn[0][0], posn[0][1]-1], [posn[0][0], posn[0][1]+1]]\n",
    "                                    )\n",
    "                                )\n",
    "                            )\n",
    "                        )\n",
    "                        ][0]\n",
    "                else [-1,-1] if all((top_map-posn[1])[       \n",
    "                    legal_positions[:,0], \n",
    "                    legal_positions[:,1]\n",
    "                    ] != 0)\n",
    "                else np.vstack([\n",
    "                        rec(rec, [n_pos, posn[1]+1]) \\\n",
    "                            for n_pos in legal_positions if (top_map-posn[1])[*n_pos] == 0\n",
    "                    ]), \n",
    "                posn\n",
    "            ),\n",
    "        [[pos, 1] for pos in np.array(np.where(top_map==0)).T]\n",
    "        )\n",
    "    )))"
   ]
  },
  {
   "cell_type": "markdown",
   "metadata": {},
   "source": [
    "### plain"
   ]
  },
  {
   "cell_type": "code",
   "execution_count": 110,
   "metadata": {},
   "outputs": [
    {
     "data": {
      "text/plain": [
       "682"
      ]
     },
     "execution_count": 110,
     "metadata": {},
     "output_type": "execute_result"
    }
   ],
   "source": [
    "def rec_find(pos, n):\n",
    "    legal_positions = np.array(list(filter(lambda x: (x[0]>=0 and x[0]<top_map.shape[0]) and (x[1]>=0 and x[1]<top_map.shape[1]), [[pos[0]-1, pos[1]], [pos[0]+1, pos[1]], [pos[0], pos[1]-1], [pos[0], pos[1]+1]])))\n",
    "    # print(n)\n",
    "    # return 0\n",
    "    if n == 10:\n",
    "        return pos\n",
    "\n",
    "    if all((top_map-n)[legal_positions[:,0], legal_positions[:,1]] != 0):\n",
    "        return [-1,-1]\n",
    "    \n",
    "    return np.vstack([\n",
    "        rec_find(n_pos, n+1) for n_pos in legal_positions if (top_map-n)[*n_pos] == 0\n",
    "    ])\n",
    "\n",
    "summed = 0\n",
    "for x, y in np.array(np.where(top_map==0)).T:\n",
    "    res = rec_find([x,y], 1)\n",
    "    summed += len([x for x in np.unique(res, axis=0) if np.all(x!=[-1,-1])])\n",
    "    # print(len([x for x in np.unique(res, axis=0) if np.all(x!=[-1,-1])]))\n",
    "\n",
    "summed"
   ]
  },
  {
   "cell_type": "markdown",
   "metadata": {},
   "source": [
    "pt2"
   ]
  },
  {
   "cell_type": "code",
   "execution_count": 9,
   "metadata": {},
   "outputs": [
    {
     "data": {
      "text/plain": [
       "array([[0, 3, 4, ..., 0, 1, 0],\n",
       "       [1, 2, 5, ..., 9, 2, 3],\n",
       "       [5, 4, 5, ..., 0, 1, 4],\n",
       "       ...,\n",
       "       [0, 7, 6, ..., 3, 8, 5],\n",
       "       [1, 4, 5, ..., 2, 7, 6],\n",
       "       [2, 3, 4, ..., 1, 2, 3]])"
      ]
     },
     "execution_count": 9,
     "metadata": {},
     "output_type": "execute_result"
    }
   ],
   "source": [
    "top_map = np.array([[int(y) for y in x] for x in \"\".join(open(\"data/input10.txt\").readlines()).split(\"\\n\")[:-1]])\n",
    "top_map"
   ]
  },
  {
   "cell_type": "code",
   "execution_count": 11,
   "metadata": {},
   "outputs": [
    {
     "data": {
      "text/plain": [
       "1511"
      ]
     },
     "execution_count": 11,
     "metadata": {},
     "output_type": "execute_result"
    }
   ],
   "source": [
    "sum(map(lambda s: len([d for d in s if not np.all(d==[-1,-1])]), list(map(lambda posn: (lambda f, *a: f(f, *a))(lambda rec, posn: posn[0] if [posn[1] == 10,(legal_positions:=np.array(list(filter(lambda x: (x[0]>=0 and x[0]<top_map.shape[0]) and (x[1]>=0 and x[1]<top_map.shape[1]), [[posn[0][0]-1, posn[0][1]], [posn[0][0]+1, posn[0][1]], [posn[0][0], posn[0][1]-1], [posn[0][0], posn[0][1]+1]]))))][0] else [-1,-1] if all((top_map-posn[1])[legal_positions[:,0], legal_positions[:,1]] != 0) else np.vstack([rec(rec, [n_pos, posn[1]+1]) for n_pos in legal_positions if (top_map-posn[1])[*n_pos] == 0]), posn), [[pos, 1] for pos in np.array(np.where(top_map==0)).T]))))"
   ]
  },
  {
   "cell_type": "code",
   "execution_count": 12,
   "metadata": {},
   "outputs": [
    {
     "data": {
      "text/plain": [
       "1511"
      ]
     },
     "execution_count": 12,
     "metadata": {},
     "output_type": "execute_result"
    }
   ],
   "source": [
    "sum(\n",
    "    map(lambda s: len([d for d in s if not np.all(d==[-1,-1])]),\n",
    "    list(map(\n",
    "        lambda posn: \n",
    "            (lambda f, *a: f(f, *a))\n",
    "            (lambda rec, posn: \n",
    "                posn[0] if [posn[1] == 10,\n",
    "                        (legal_positions:=\n",
    "                            np.array(\n",
    "                                list(\n",
    "                                    filter(\n",
    "                                        lambda x: \n",
    "                                        (x[0]>=0 and x[0]<top_map.shape[0]) and \n",
    "                                        (x[1]>=0 and x[1]<top_map.shape[1]), \n",
    "                                    [[posn[0][0]-1, posn[0][1]], [posn[0][0]+1, posn[0][1]], [posn[0][0], posn[0][1]-1], [posn[0][0], posn[0][1]+1]]\n",
    "                                    )\n",
    "                                )\n",
    "                            )\n",
    "                        )\n",
    "                        ][0]\n",
    "                else [-1,-1] if all((top_map-posn[1])[       \n",
    "                    legal_positions[:,0], \n",
    "                    legal_positions[:,1]\n",
    "                    ] != 0)\n",
    "                else np.vstack([\n",
    "                        rec(rec, [n_pos, posn[1]+1]) \\\n",
    "                            for n_pos in legal_positions if (top_map-posn[1])[*n_pos] == 0\n",
    "                    ]), \n",
    "                posn\n",
    "            ),\n",
    "        [[pos, 1] for pos in np.array(np.where(top_map==0)).T]\n",
    "        )\n",
    "    )))"
   ]
  },
  {
   "cell_type": "code",
   "execution_count": 8,
   "metadata": {},
   "outputs": [
    {
     "data": {
      "text/plain": [
       "1511"
      ]
     },
     "execution_count": 8,
     "metadata": {},
     "output_type": "execute_result"
    }
   ],
   "source": [
    "def rec_find(pos, n):\n",
    "    legal_positions = np.array(list(filter(lambda x: (x[0]>=0 and x[0]<top_map.shape[0]) and (x[1]>=0 and x[1]<top_map.shape[1]), [[pos[0]-1, pos[1]], [pos[0]+1, pos[1]], [pos[0], pos[1]-1], [pos[0], pos[1]+1]])))\n",
    "    # print(n)\n",
    "    # return 0\n",
    "    if n == 10:\n",
    "        return pos\n",
    "\n",
    "    if all((top_map-n)[legal_positions[:,0], legal_positions[:,1]] != 0):\n",
    "        return [-1,-1]\n",
    "    \n",
    "    return np.vstack([\n",
    "        rec_find(n_pos, n+1) for n_pos in legal_positions if (top_map-n)[*n_pos] == 0\n",
    "    ])\n",
    "\n",
    "summed = 0\n",
    "for x, y in np.array(np.where(top_map==0)).T:\n",
    "    res = rec_find([x,y], 1)\n",
    "    summed += len([x for x in res if np.all(x!=[-1,-1])])\n",
    "    # print(len([x for x in np.unique(res, axis=0) if np.all(x!=[-1,-1])]))\n",
    "\n",
    "summed"
   ]
  }
 ],
 "metadata": {
  "kernelspec": {
   "display_name": "Python 3",
   "language": "python",
   "name": "python3"
  },
  "language_info": {
   "codemirror_mode": {
    "name": "ipython",
    "version": 3
   },
   "file_extension": ".py",
   "mimetype": "text/x-python",
   "name": "python",
   "nbconvert_exporter": "python",
   "pygments_lexer": "ipython3",
   "version": "3.12.1"
  }
 },
 "nbformat": 4,
 "nbformat_minor": 2
}
