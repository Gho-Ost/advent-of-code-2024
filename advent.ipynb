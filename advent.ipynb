{
 "cells": [
  {
   "cell_type": "markdown",
   "metadata": {},
   "source": [
    "# Day1"
   ]
  },
  {
   "cell_type": "code",
   "execution_count": null,
   "metadata": {},
   "outputs": [],
   "source": [
    "from collections import Counter as C\n",
    "import numpy as np"
   ]
  },
  {
   "cell_type": "code",
   "execution_count": null,
   "metadata": {},
   "outputs": [
    {
     "data": {
      "text/plain": [
       "1388114"
      ]
     },
     "execution_count": 44,
     "metadata": {},
     "output_type": "execute_result"
    }
   ],
   "source": [
    "[sum(np.abs(np.diff(np.array([np.sort(a[0]), np.sort(a[1])], dtype=np.int64), axis=0)[0])) for a in [np.loadtxt(\"data/input1.txt\").T]][0]"
   ]
  },
  {
   "cell_type": "code",
   "execution_count": null,
   "metadata": {},
   "outputs": [
    {
     "data": {
      "text/plain": [
       "23529853.0"
      ]
     },
     "execution_count": 46,
     "metadata": {},
     "output_type": "execute_result"
    }
   ],
   "source": [
    "[sum([x*C(a[1])[x] for x in a[0]]) for a in [np.loadtxt(\"data/input1.txt\").T]][0]"
   ]
  },
  {
   "cell_type": "markdown",
   "metadata": {},
   "source": [
    "## Day2"
   ]
  },
  {
   "cell_type": "code",
   "execution_count": null,
   "metadata": {},
   "outputs": [],
   "source": [
    "import numpy as np"
   ]
  },
  {
   "cell_type": "code",
   "execution_count": null,
   "metadata": {},
   "outputs": [
    {
     "data": {
      "text/plain": [
       "585"
      ]
     },
     "execution_count": 18,
     "metadata": {},
     "output_type": "execute_result"
    }
   ],
   "source": [
    "sum([(((np.all(r>0)) | np.all(r<0)) & (np.all(np.abs(r)<=3)) & (np.all(np.abs(r)>0))) for r in [np.diff(list(map(int, a.split(\" \")))) for a in open(\"data/input2.txt\").readlines()]])"
   ]
  },
  {
   "cell_type": "code",
   "execution_count": null,
   "metadata": {},
   "outputs": [
    {
     "data": {
      "text/plain": [
       "626"
      ]
     },
     "execution_count": 47,
     "metadata": {},
     "output_type": "execute_result"
    }
   ],
   "source": [
    "sum([np.any(np.array(list(map(\n",
    "    lambda x: (((np.all(np.diff(x)>0)) | np.all(np.diff(x)<0)) & (np.all(np.abs(np.diff(x))<=3)) & (np.all(np.abs(np.diff(x))>0))),\n",
    "     [np.array(r[:i] + r[i+1:]) for i in range(len(r)+1)]\n",
    "     )))) \\\n",
    "     for r in [list(map(int, a.split(\" \"))) for a in open(\"data/input2.txt\").readlines()]\n",
    "     ])"
   ]
  },
  {
   "cell_type": "code",
   "execution_count": null,
   "metadata": {},
   "outputs": [],
   "source": [
    "sum([np.any(np.array(list(map(lambda x: (((np.all(np.diff(x)>0)) | np.all(np.diff(x)<0)) & (np.all(np.abs(np.diff(x))<=3)) & (np.all(np.abs(np.diff(x))>0))), [np.array(r[:i] + r[i+1:]) for i in range(len(r)+1)])))) for r in [list(map(int, a.split(\" \"))) for a in open(\"data/input2.txt\").readlines()]])"
   ]
  },
  {
   "cell_type": "markdown",
   "metadata": {},
   "source": [
    "## Day3"
   ]
  },
  {
   "cell_type": "code",
   "execution_count": 1,
   "metadata": {},
   "outputs": [],
   "source": [
    "import re"
   ]
  },
  {
   "cell_type": "code",
   "execution_count": null,
   "metadata": {},
   "outputs": [
    {
     "data": {
      "text/plain": [
       "170778545"
      ]
     },
     "execution_count": 18,
     "metadata": {},
     "output_type": "execute_result"
    }
   ],
   "source": [
    "sum([int(a[4:]) * int(b[:-1]) for a, b in list(map(lambda x: x.split(\",\"), re.findall(r\"mul\\(\\d{1,3},\\d{1,3}\\)\", \"\".join(open(\"data/input3.txt\").readlines()))))])"
   ]
  },
  {
   "cell_type": "code",
   "execution_count": 42,
   "metadata": {},
   "outputs": [
    {
     "data": {
      "text/plain": [
       "82868252"
      ]
     },
     "execution_count": 42,
     "metadata": {},
     "output_type": "execute_result"
    }
   ],
   "source": [
    "sum(\n",
    "    [int(a[4:]) * int(b[:-1]) for a, b in \\\n",
    "        list(\n",
    "            map(\n",
    "                lambda x: x.split(\",\"), \\\n",
    "                re.findall(\n",
    "                    r\"mul\\(\\d{1,3},\\d{1,3}\\)\", \\\n",
    "                    re.sub(\n",
    "                        r\"don't\\(\\)(?:mul\\(\\d{1,3},\\d{1,3}\\))*\",\n",
    "                        \"\",\n",
    "                        \"\".join(\n",
    "                            list(\n",
    "                                re.findall(\n",
    "                                    r\"mul\\(\\d{1,3},\\d{1,3}\\)|do\\(\\)|don't\\(\\)\", \\\n",
    "                                    \"\".join(open(\"data/input3.txt\").readlines())\n",
    "                                )\n",
    "                            )\n",
    "                        ) \n",
    "                    )\n",
    "                )\n",
    "            )\n",
    "        )\n",
    "    ]\n",
    ")"
   ]
  },
  {
   "cell_type": "code",
   "execution_count": 43,
   "metadata": {},
   "outputs": [
    {
     "data": {
      "text/plain": [
       "82868252"
      ]
     },
     "execution_count": 43,
     "metadata": {},
     "output_type": "execute_result"
    }
   ],
   "source": [
    "sum([int(a[4:]) * int(b[:-1]) for a, b in list(map(lambda x: x.split(\",\"), re.findall(r\"mul\\(\\d{1,3},\\d{1,3}\\)\", re.sub(r\"don't\\(\\)(?:mul\\(\\d{1,3},\\d{1,3}\\))*\", \"\", \"\".join(list(re.findall(r\"mul\\(\\d{1,3},\\d{1,3}\\)|do\\(\\)|don't\\(\\)\", \"\".join(open(\"data/input3.txt\").readlines()))))))))])"
   ]
  },
  {
   "cell_type": "markdown",
   "metadata": {},
   "source": [
    "## Day4"
   ]
  },
  {
   "cell_type": "code",
   "execution_count": 1,
   "metadata": {},
   "outputs": [],
   "source": [
    "import numpy as np\n",
    "from numpy.lib.stride_tricks import sliding_window_view"
   ]
  },
  {
   "cell_type": "code",
   "execution_count": null,
   "metadata": {},
   "outputs": [],
   "source": [
    "sum([sum([np.sum([[np.all(np.array([\"X\", \"M\", \"A\", \"S\"]) == x[0]) for x in a] for a in sliding_window_view(np.rot90(arr, n), (1, 4))]) for n in range(4) for arr in [np.array([[m for m in z[:-1]] for z in open(\"data/input4.txt\").readlines()])]]), sum([sum([sum([np.all(window == np.array([\"X\", \"M\", \"A\", \"S\"])) for window in sliding_window_view(np.diagonal(np.rot90(arr, n), i), 4)]) for i in range(-np.rot90(arr, n).shape[0]+4, np.rot90(arr, n).shape[0]-3)]) for n in range(4) for arr in [np.array([[m for m in z[:-1]] for z in open(\"data/input4.txt\").readlines()])]])])"
   ]
  },
  {
   "cell_type": "code",
   "execution_count": 3,
   "metadata": {},
   "outputs": [
    {
     "data": {
      "text/plain": [
       "2464"
      ]
     },
     "execution_count": 3,
     "metadata": {},
     "output_type": "execute_result"
    }
   ],
   "source": [
    "sum([\n",
    "    sum([\n",
    "        np.sum([\n",
    "            [\n",
    "                np.all(np.array([\"X\", \"M\", \"A\", \"S\"]) == x[0]) for x in a\n",
    "            ] \n",
    "            \n",
    "            for a in sliding_window_view(np.rot90(arr, n), (1, 4))\n",
    "        ]) \n",
    "        \n",
    "        for n in range(4)\n",
    "        for arr in [np.array([[m for m in z[:-1]] for z in open(\"data/input4.txt\").readlines()])]\n",
    "    ]), \\\n",
    "    \n",
    "    sum([\n",
    "        sum([\n",
    "            sum([\n",
    "                np.all(window == np.array([\"X\", \"M\", \"A\", \"S\"])) \\\n",
    "                for window in sliding_window_view(np.diagonal(np.rot90(arr, n), i), 4)\n",
    "            ]) \\\n",
    "            \n",
    "            for i in range(-np.rot90(arr, n).shape[0]+4, np.rot90(arr, n).shape[0]-3)\n",
    "        ]) \\\n",
    "            \n",
    "        for n in range(4)\n",
    "        for arr in [np.array([[m for m in z[:-1]] for z in open(\"data/input4.txt\").readlines()])]\n",
    "    ])               \n",
    "])"
   ]
  },
  {
   "cell_type": "code",
   "execution_count": 7,
   "metadata": {},
   "outputs": [
    {
     "data": {
      "text/plain": [
       "1982"
      ]
     },
     "execution_count": 7,
     "metadata": {},
     "output_type": "execute_result"
    }
   ],
   "source": [
    "[sum([sum([np.any([np.all(np.rot90(np.array([[\"M\", \"\", \"M\"], [\"\", \"A\", \"\"], [\"S\", \"\", \"S\"]]), x)[[0,0,1,2,2],[0,2,1,0,2]] == window[[0,0,1,2,2],[0,2,1,0,2]]) for x in range(4)]) for window in rwindow]) for rwindow in sliding_window_view(arr, (3,3))]) for arr in [np.array([[m for m in z[:-1]] for z in open(\"data/input4.txt\").readlines()])]][0]"
   ]
  },
  {
   "cell_type": "code",
   "execution_count": 6,
   "metadata": {},
   "outputs": [
    {
     "data": {
      "text/plain": [
       "1982"
      ]
     },
     "execution_count": 6,
     "metadata": {},
     "output_type": "execute_result"
    }
   ],
   "source": [
    "[sum([\n",
    "    sum([\n",
    "        np.any([\n",
    "            np.all(\n",
    "                np.rot90(\n",
    "                    np.array([[\"M\", \"\", \"M\"], [\"\", \"A\", \"\"], [\"S\", \"\", \"S\"]]), x\n",
    "                )[[0,0,1,2,2],[0,2,1,0,2]] == window[[0,0,1,2,2],[0,2,1,0,2]]\n",
    "            ) \n",
    "            \n",
    "            for x in range(4)\n",
    "        ])\n",
    "        \n",
    "        for window in rwindow\n",
    "    ])\n",
    "    \n",
    "    for rwindow in sliding_window_view(arr, (3,3))\n",
    "]) for arr in [np.array([[m for m in z[:-1]] for z in open(\"data/input4.txt\").readlines()])]][0]"
   ]
  },
  {
   "cell_type": "markdown",
   "metadata": {},
   "source": [
    "## Day5"
   ]
  },
  {
   "cell_type": "code",
   "execution_count": 9,
   "metadata": {},
   "outputs": [],
   "source": [
    "import numpy as np"
   ]
  },
  {
   "cell_type": "code",
   "execution_count": 117,
   "metadata": {},
   "outputs": [
    {
     "name": "stderr",
     "output_type": "stream",
     "text": [
      "C:\\Users\\barte\\AppData\\Local\\Temp\\ipykernel_9896\\3374753096.py:1: VisibleDeprecationWarning: Creating an ndarray from ragged nested sequences (which is a list-or-tuple of lists-or-tuples-or ndarrays with different lengths or shapes) is deprecated. If you meant to do this, you must specify 'dtype=object' when creating the ndarray.\n",
      "  sum([(a:=list(map(lambda x: x.split(\"\\n\"), \"\".join(open(\"data/input5.txt\").readlines())[:-1].split(\"\\n\\n\")))), (conds:=np.array([list(map(int, x.split(\"|\"))) for x in a[0]])), (updates:=np.array([list(map(int, x.split(\",\"))) for x in a[1]])), (cond_ids:=dict([[num, conds[(np.where(conds[:,0] == num)[0]), 1]] for num in np.unique(conds[:,0])])), list(map(lambda u: u[len(u)//2] if not np.any([np.any(np.isin(u[:i], cond_ids.get(u[i], {-1,}))) for i in range(len(u))]) else 0, updates))][4])\n"
     ]
    },
    {
     "data": {
      "text/plain": [
       "7307"
      ]
     },
     "execution_count": 117,
     "metadata": {},
     "output_type": "execute_result"
    }
   ],
   "source": [
    "sum([(a:=list(map(lambda x: x.split(\"\\n\"), \"\".join(open(\"data/input5.txt\").readlines())[:-1].split(\"\\n\\n\")))), (conds:=np.array([list(map(int, x.split(\"|\"))) for x in a[0]])), (updates:=np.array([list(map(int, x.split(\",\"))) for x in a[1]])), (cond_ids:=dict([[num, conds[(np.where(conds[:,0] == num)[0]), 1]] for num in np.unique(conds[:,0])])), list(map(lambda u: u[len(u)//2] if not np.any([np.any(np.isin(u[:i], cond_ids.get(u[i], {-1,}))) for i in range(len(u))]) else 0, updates))][4])"
   ]
  },
  {
   "cell_type": "code",
   "execution_count": 85,
   "metadata": {},
   "outputs": [
    {
     "name": "stderr",
     "output_type": "stream",
     "text": [
      "C:\\Users\\barte\\AppData\\Local\\Temp\\ipykernel_9896\\3861292322.py:4: VisibleDeprecationWarning: Creating an ndarray from ragged nested sequences (which is a list-or-tuple of lists-or-tuples-or ndarrays with different lengths or shapes) is deprecated. If you meant to do this, you must specify 'dtype=object' when creating the ndarray.\n",
      "  (updates:=np.array([list(map(int, x.split(\",\"))) for x in a[1]])),\n"
     ]
    },
    {
     "data": {
      "text/plain": [
       "7307"
      ]
     },
     "execution_count": 85,
     "metadata": {},
     "output_type": "execute_result"
    }
   ],
   "source": [
    "sum([\n",
    "    (a:=list(map(lambda x: x.split(\"\\n\"), \"\".join(open(\"data/input5.txt\").readlines())[:-1].split(\"\\n\\n\")))),\n",
    "    (conds:=np.array([list(map(int, x.split(\"|\"))) for x in a[0]])),\n",
    "    (updates:=np.array([list(map(int, x.split(\",\"))) for x in a[1]])),\n",
    "    (cond_ids:=dict([[num, conds[(np.where(conds[:,0] == num)[0]), 1]] for num in np.unique(conds[:,0])])),\n",
    "    list(map(lambda u: u[len(u)//2] if not np.any([np.any(np.isin(u[:i], cond_ids.get(u[i], {-1,}))) for i in range(len(u))]) else 0, updates))\n",
    "][4])"
   ]
  },
  {
   "cell_type": "code",
   "execution_count": 116,
   "metadata": {},
   "outputs": [
    {
     "name": "stderr",
     "output_type": "stream",
     "text": [
      "C:\\Users\\barte\\AppData\\Local\\Temp\\ipykernel_9896\\2437952304.py:1: VisibleDeprecationWarning: Creating an ndarray from ragged nested sequences (which is a list-or-tuple of lists-or-tuples-or ndarrays with different lengths or shapes) is deprecated. If you meant to do this, you must specify 'dtype=object' when creating the ndarray.\n",
      "  sum([(a:=list(map(lambda x: x.split(\"\\n\"), \"\".join(open(\"data/input5.txt\").readlines())[:-1].split(\"\\n\\n\")))),(conds:=np.array([list(map(int, x.split(\"|\"))) for x in a[0]])),(updates:=np.array([list(map(int, x.split(\",\"))) for x in a[1]])),(cond_ids:=dict([[num, conds[(np.where(conds[:,0] == num)[0]), 1]] for num in np.unique(conds[:,0])])),(wrong_updates:=updates[[np.any([np.any(np.isin(u[:i], cond_ids.get(u[i], {-1,}))) for i in range(len(u))]) for u in updates]]),[(b:=[s[0] for s in sorted([[i, [x for x in cond_ids.get(i, [-1]) if x in set(u)]] for i in u], reverse=True, key=lambda x: len(x[1]))])[len(b)//2] for u in wrong_updates]][5])\n"
     ]
    },
    {
     "data": {
      "text/plain": [
       "4713"
      ]
     },
     "execution_count": 116,
     "metadata": {},
     "output_type": "execute_result"
    }
   ],
   "source": [
    "sum([(a:=list(map(lambda x: x.split(\"\\n\"), \"\".join(open(\"data/input5.txt\").readlines())[:-1].split(\"\\n\\n\")))),(conds:=np.array([list(map(int, x.split(\"|\"))) for x in a[0]])),(updates:=np.array([list(map(int, x.split(\",\"))) for x in a[1]])),(cond_ids:=dict([[num, conds[(np.where(conds[:,0] == num)[0]), 1]] for num in np.unique(conds[:,0])])),(wrong_updates:=updates[[np.any([np.any(np.isin(u[:i], cond_ids.get(u[i], {-1,}))) for i in range(len(u))]) for u in updates]]),[(b:=[s[0] for s in sorted([[i, [x for x in cond_ids.get(i, [-1]) if x in set(u)]] for i in u], reverse=True, key=lambda x: len(x[1]))])[len(b)//2] for u in wrong_updates]][5])"
   ]
  },
  {
   "cell_type": "code",
   "execution_count": 114,
   "metadata": {},
   "outputs": [
    {
     "name": "stderr",
     "output_type": "stream",
     "text": [
      "C:\\Users\\barte\\AppData\\Local\\Temp\\ipykernel_9896\\3296114357.py:4: VisibleDeprecationWarning: Creating an ndarray from ragged nested sequences (which is a list-or-tuple of lists-or-tuples-or ndarrays with different lengths or shapes) is deprecated. If you meant to do this, you must specify 'dtype=object' when creating the ndarray.\n",
      "  (updates:=np.array([list(map(int, x.split(\",\"))) for x in a[1]])),\n"
     ]
    },
    {
     "data": {
      "text/plain": [
       "4713"
      ]
     },
     "execution_count": 114,
     "metadata": {},
     "output_type": "execute_result"
    }
   ],
   "source": [
    "sum([\n",
    "    (a:=list(map(lambda x: x.split(\"\\n\"), \"\".join(open(\"data/input5.txt\").readlines())[:-1].split(\"\\n\\n\")))),\n",
    "    (conds:=np.array([list(map(int, x.split(\"|\"))) for x in a[0]])),\n",
    "    (updates:=np.array([list(map(int, x.split(\",\"))) for x in a[1]])),\n",
    "    (cond_ids:=dict([[num, conds[(np.where(conds[:,0] == num)[0]), 1]] for num in np.unique(conds[:,0])])),\n",
    "    (wrong_updates:=updates[[np.any([np.any(np.isin(u[:i], cond_ids.get(u[i], {-1,}))) for i in range(len(u))]) for u in updates]]),\n",
    "    [(b:=[s[0] for s in sorted([[i, [x for x in cond_ids.get(i, [-1]) if x in set(u)]] for i in u], reverse=True, key=lambda x: len(x[1]))])[len(b)//2] for u in wrong_updates]\n",
    "][5])"
   ]
  },
  {
   "cell_type": "markdown",
   "metadata": {},
   "source": [
    "## Day6"
   ]
  },
  {
   "cell_type": "code",
   "execution_count": 16,
   "metadata": {},
   "outputs": [],
   "source": [
    "import numpy as np\n",
    "from itertools import cycle"
   ]
  },
  {
   "cell_type": "code",
   "execution_count": 130,
   "metadata": {},
   "outputs": [
    {
     "data": {
      "text/plain": [
       "5531"
      ]
     },
     "execution_count": 130,
     "metadata": {},
     "output_type": "execute_result"
    }
   ],
   "source": [
    "arr = np.array([[y for y in x] for x in \"\".join(open(\"data/input6.txt\").readlines()).split(\"\\n\")[:-1]])\n",
    "pos_row, pos_col = [x[0] for x in np.where(arr == \"^\")]\n",
    "\n",
    "# stopping condition: guard leaves the field // position = [6,4] and rotation = 0\n",
    "i = 0\n",
    "for rot in cycle([1]):\n",
    "    blocks = np.where(arr[:pos_row,pos_col] == \"#\")[0]\n",
    "    if len(blocks) == 0:\n",
    "        arr[:pos_row, pos_col] = \"X\"\n",
    "        break\n",
    "    break_row = np.max(blocks)+1\n",
    "    arr[break_row:pos_row,pos_col] = \"X\"\n",
    "    \n",
    "    pos_row = len(arr[0]) - (pos_col+1)\n",
    "    pos_col = break_row\n",
    "    arr=np.rot90(arr, rot)\n",
    "    i += 1\n",
    "    \n",
    "sum([sum([1 if y == \"X\" else 0 for y in x]) for x in arr]) + 1"
   ]
  },
  {
   "cell_type": "code",
   "execution_count": null,
   "metadata": {},
   "outputs": [],
   "source": [
    "org_arr = np.array([[y for y in x] for x in \"\".join(open(\"data/input6.txt\").readlines()).split(\"\\n\")[:-1]])\n",
    "pos_row, pos_col = [x[0] for x in np.where(org_arr == \"^\")]\n",
    "\n",
    "original_position = (pos_row, pos_col)\n",
    "\n",
    "num_valid = 0\n",
    "for i in range(org_arr.shape[0]):\n",
    "    # print(i)\n",
    "    for j in range(org_arr.shape[1]):\n",
    "        if org_arr[i,j] == \"#\" or org_arr[i,j] == \"^\":\n",
    "            continue\n",
    "        \n",
    "        current_rotation = 0\n",
    "\n",
    "        pos_row, pos_col = original_position\n",
    "        arr = org_arr.copy()\n",
    "        arr[i,j] = \"#\"\n",
    "\n",
    "        for rot in cycle([1]):\n",
    "            blocks = np.where(arr[:pos_row,pos_col] == \"#\")[0]\n",
    "            if len(blocks) == 0:\n",
    "                arr[:pos_row, pos_col] = \"X\"\n",
    "                break\n",
    "\n",
    "            break_row = np.max(blocks)+1\n",
    "\n",
    "            if (arr[pos_row, pos_col] == \"X\") and np.all(arr[break_row:pos_row,pos_col] == \"X\") and len(arr[break_row:pos_row,pos_col]) > 0:\n",
    "                num_valid += 1\n",
    "                break\n",
    "\n",
    "            arr[break_row:pos_row,pos_col] = \"X\"\n",
    "\n",
    "            pos_row = len(arr[0]) - (pos_col+1)\n",
    "            pos_col = break_row\n",
    "            arr=np.rot90(arr, rot)\n",
    "            current_rotation = (current_rotation + 1) % 4\n",
    "\n",
    "print(num_valid)"
   ]
  },
  {
   "cell_type": "markdown",
   "metadata": {},
   "source": [
    "# solve by storing the direction in which each tile was passed and check if tiles were passed in this direction already"
   ]
  },
  {
   "cell_type": "code",
   "execution_count": null,
   "metadata": {},
   "outputs": [],
   "source": [
    "res = 2165"
   ]
  },
  {
   "cell_type": "code",
   "execution_count": 6,
   "metadata": {},
   "outputs": [
    {
     "data": {
      "text/plain": [
       "'....#.....\\n.........#\\n..........\\n..#.......\\n.......#..\\n..........\\n.#..^.....\\n........#.\\n#.........\\n......#...'"
      ]
     },
     "execution_count": 6,
     "metadata": {},
     "output_type": "execute_result"
    }
   ],
   "source": [
    "test_input = \"\"\"....#.....\n",
    ".........#\n",
    "..........\n",
    "..#.......\n",
    ".......#..\n",
    "..........\n",
    ".#..^.....\n",
    "........#.\n",
    "#.........\n",
    "......#...\"\"\"\n",
    "\n",
    "test_input"
   ]
  },
  {
   "cell_type": "markdown",
   "metadata": {},
   "source": [
    "## Day7"
   ]
  },
  {
   "cell_type": "code",
   "execution_count": 54,
   "metadata": {},
   "outputs": [],
   "source": [
    "import numpy as np\n",
    "from itertools import product"
   ]
  },
  {
   "cell_type": "code",
   "execution_count": 91,
   "metadata": {},
   "outputs": [
    {
     "data": {
      "text/plain": [
       "2299996598890"
      ]
     },
     "execution_count": 91,
     "metadata": {},
     "output_type": "execute_result"
    }
   ],
   "source": [
    "sum([res if np.any([res == eval((\"(\"*(len(nums)-2)) + \"\".join([nums[k] + \")\"*bool(k) + t[k] for k in range(len(nums)-1)] + [nums[-1]])) for t in list(product([\"+\", \"*\"], repeat=len(nums)-1))]) else 0 for res, nums in [[[int(a), b.split(\" \")] for a, b in [i.split(\": \")]][0] for i in \"\".join(open(\"data/input7.txt\").readlines()).split(\"\\n\")[:-1]]])"
   ]
  },
  {
   "cell_type": "code",
   "execution_count": 154,
   "metadata": {},
   "outputs": [
    {
     "data": {
      "text/plain": [
       "362646859298554"
      ]
     },
     "execution_count": 154,
     "metadata": {},
     "output_type": "execute_result"
    }
   ],
   "source": [
    "e = 0\n",
    "for res, nums in [[[int(a), b.split(\" \")] for a, b in [i.split(\": \")]][0] for i in \"\".join(open(\"data/input7.txt\").readlines()).split(\"\\n\")[:-1]]:\n",
    "# for res, nums in [[[int(a), b.split(\" \")] for a, b in [i.split(\": \")]][0] for i in test_input.split(\"\\n\")[:-1]]:\n",
    "    for t in list(product([\"+\", \"*\", \"||\"], repeat=len(nums)-1)):\n",
    "        r = nums[0]\n",
    "        for it, op in enumerate(t):\n",
    "            if op == \"||\":\n",
    "                r += nums[it+1]\n",
    "            else:\n",
    "                r = str(eval(r + op + nums[it+1]))\n",
    "\n",
    "        if len(r) != len(str(res)):\n",
    "            continue\n",
    "        \n",
    "        if int(r) == res:\n",
    "            e += res\n",
    "            break\n",
    "e    "
   ]
  },
  {
   "cell_type": "markdown",
   "metadata": {},
   "source": [
    "## Day8"
   ]
  },
  {
   "cell_type": "code",
   "execution_count": 1,
   "metadata": {},
   "outputs": [],
   "source": [
    "import numpy as np\n",
    "from itertools import combinations"
   ]
  },
  {
   "cell_type": "code",
   "execution_count": 17,
   "metadata": {},
   "outputs": [
    {
     "data": {
      "text/plain": [
       "293"
      ]
     },
     "execution_count": 17,
     "metadata": {},
     "output_type": "execute_result"
    }
   ],
   "source": [
    "[np.unique(np.concatenate([np.concatenate([np.stack([b + (b-a) if (np.all((b + (b-a)) < arr.shape) and np.all((b + (b-a)) >= np.array([0,0]))) else np.array([-1,-1]), a - (b-a) if (np.all((a - (b-a)) < arr.shape) and np.all((a - (b-a)) >= np.array([0,0]))) else np.array([-1,-1])]) for a,b in list(combinations(np.stack(np.where(arr==ch)).T, 2))]) for ch in np.unique(arr) if ch != \".\"]), axis=0).shape[0] for arr in [np.array([[y for y in x] for x in \"\".join(open(\"data/input8.txt\").readlines()).split(\"\\n\")[:-1]])]][0] - 1"
   ]
  },
  {
   "cell_type": "code",
   "execution_count": 16,
   "metadata": {},
   "outputs": [
    {
     "data": {
      "text/plain": [
       "293"
      ]
     },
     "execution_count": 16,
     "metadata": {},
     "output_type": "execute_result"
    }
   ],
   "source": [
    "[np.unique(np.concatenate([\n",
    "    np.concatenate([\n",
    "        np.stack([   \n",
    "            b + (b-a) if (np.all((b + (b-a)) < arr.shape) and np.all((b + (b-a)) >= np.array([0,0]))) else np.array([-1,-1]),\n",
    "            a - (b-a) if (np.all((a - (b-a)) < arr.shape) and np.all((a - (b-a)) >= np.array([0,0]))) else np.array([-1,-1])\n",
    "        ])\n",
    "        \n",
    "        for a,b in list(combinations(np.stack(np.where(arr==ch)).T, 2))\n",
    "    ])\n",
    "    \n",
    "    for ch in np.unique(arr) if ch != \".\"\n",
    "]), axis=0).shape[0] for arr in [np.array([[y for y in x] for x in \"\".join(open(\"data/input8.txt\").readlines()).split(\"\\n\")[:-1]])]][0] - 1"
   ]
  },
  {
   "cell_type": "code",
   "execution_count": null,
   "metadata": {},
   "outputs": [],
   "source": [
    "[np.unique(np.concatenate([np.concatenate([np.concatenate([np.stack([[b + i*(b-a) if (np.all((b + i*(b-a)) < arr.shape) and np.all((b + i*(b-a)) >= np.array([0,0]))) else np.array([-1,-1]), a - i*(b-a) if (np.all((a - i*(b-a)) < arr.shape) and np.all((a - i*(b-a)) >= np.array([0,0]))) else np.array([-1,-1])] for i in range(50)]).reshape(50*2, 2)]) for a,b in list(combinations(np.stack(np.where(arr==ch)).T, 2))]) for ch in np.unique(arr) if ch != \".\"]), axis=0).shape[0] for arr in [np.array([[y for y in x] for x in \"\".join(open(\"data/input8.txt\").readlines()).split(\"\\n\")[:-1]])]][0] - 1"
   ]
  },
  {
   "cell_type": "code",
   "execution_count": 76,
   "metadata": {},
   "outputs": [
    {
     "data": {
      "text/plain": [
       "934"
      ]
     },
     "execution_count": 76,
     "metadata": {},
     "output_type": "execute_result"
    }
   ],
   "source": [
    "[np.unique(np.concatenate([\n",
    "    np.concatenate([\n",
    "        np.concatenate([ \n",
    "            np.stack([\n",
    "                [b + i*(b-a) if (np.all((b + i*(b-a)) < arr.shape) and np.all((b + i*(b-a)) >= np.array([0,0]))) else np.array([-1,-1]),\n",
    "                a - i*(b-a) if (np.all((a - i*(b-a)) < arr.shape) and np.all((a - i*(b-a)) >= np.array([0,0]))) else np.array([-1,-1])]\n",
    "                for i in range(50)\n",
    "            ]).reshape(50*2, 2)\n",
    "        ])\n",
    "        \n",
    "        for a,b in list(combinations(np.stack(np.where(arr==ch)).T, 2))\n",
    "    ])\n",
    "    \n",
    "    for ch in np.unique(arr) if ch != \".\"\n",
    "]), axis=0).shape[0] for arr in [np.array([[y for y in x] for x in \"\".join(open(\"data/input8.txt\").readlines()).split(\"\\n\")[:-1]])]][0] - 1"
   ]
  }
 ],
 "metadata": {
  "kernelspec": {
   "display_name": "Python 3",
   "language": "python",
   "name": "python3"
  },
  "language_info": {
   "codemirror_mode": {
    "name": "ipython",
    "version": 3
   },
   "file_extension": ".py",
   "mimetype": "text/x-python",
   "name": "python",
   "nbconvert_exporter": "python",
   "pygments_lexer": "ipython3",
   "version": "3.11.0"
  }
 },
 "nbformat": 4,
 "nbformat_minor": 2
}
