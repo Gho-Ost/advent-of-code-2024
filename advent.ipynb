{
 "cells": [
  {
   "cell_type": "markdown",
   "metadata": {},
   "source": [
    "# Day1"
   ]
  },
  {
   "cell_type": "code",
   "execution_count": null,
   "metadata": {},
   "outputs": [],
   "source": [
    "from collections import Counter as C\n",
    "import numpy as np"
   ]
  },
  {
   "cell_type": "code",
   "execution_count": null,
   "metadata": {},
   "outputs": [
    {
     "data": {
      "text/plain": [
       "1388114"
      ]
     },
     "execution_count": 44,
     "metadata": {},
     "output_type": "execute_result"
    }
   ],
   "source": [
    "[sum(np.abs(np.diff(np.array([np.sort(a[0]), np.sort(a[1])], dtype=np.int64), axis=0)[0])) for a in [np.loadtxt(\"data/input1.txt\").T]][0]"
   ]
  },
  {
   "cell_type": "code",
   "execution_count": null,
   "metadata": {},
   "outputs": [
    {
     "data": {
      "text/plain": [
       "23529853.0"
      ]
     },
     "execution_count": 46,
     "metadata": {},
     "output_type": "execute_result"
    }
   ],
   "source": [
    "[sum([x*C(a[1])[x] for x in a[0]]) for a in [np.loadtxt(\"data/input1.txt\").T]][0]"
   ]
  },
  {
   "cell_type": "markdown",
   "metadata": {},
   "source": [
    "## Day2"
   ]
  },
  {
   "cell_type": "code",
   "execution_count": null,
   "metadata": {},
   "outputs": [],
   "source": [
    "import numpy as np"
   ]
  },
  {
   "cell_type": "code",
   "execution_count": null,
   "metadata": {},
   "outputs": [
    {
     "data": {
      "text/plain": [
       "585"
      ]
     },
     "execution_count": 18,
     "metadata": {},
     "output_type": "execute_result"
    }
   ],
   "source": [
    "sum([(((np.all(r>0)) | np.all(r<0)) & (np.all(np.abs(r)<=3)) & (np.all(np.abs(r)>0))) for r in [np.diff(list(map(int, a.split(\" \")))) for a in open(\"data/input2.txt\").readlines()]])"
   ]
  },
  {
   "cell_type": "code",
   "execution_count": null,
   "metadata": {},
   "outputs": [
    {
     "data": {
      "text/plain": [
       "626"
      ]
     },
     "execution_count": 47,
     "metadata": {},
     "output_type": "execute_result"
    }
   ],
   "source": [
    "sum([np.any(np.array(list(map(\n",
    "    lambda x: (((np.all(np.diff(x)>0)) | np.all(np.diff(x)<0)) & (np.all(np.abs(np.diff(x))<=3)) & (np.all(np.abs(np.diff(x))>0))),\n",
    "     [np.array(r[:i] + r[i+1:]) for i in range(len(r)+1)]\n",
    "     )))) \\\n",
    "     for r in [list(map(int, a.split(\" \"))) for a in open(\"data/input2.txt\").readlines()]\n",
    "     ])"
   ]
  },
  {
   "cell_type": "code",
   "execution_count": null,
   "metadata": {},
   "outputs": [],
   "source": [
    "sum([np.any(np.array(list(map(lambda x: (((np.all(np.diff(x)>0)) | np.all(np.diff(x)<0)) & (np.all(np.abs(np.diff(x))<=3)) & (np.all(np.abs(np.diff(x))>0))), [np.array(r[:i] + r[i+1:]) for i in range(len(r)+1)])))) for r in [list(map(int, a.split(\" \"))) for a in open(\"data/input2.txt\").readlines()]])"
   ]
  },
  {
   "cell_type": "markdown",
   "metadata": {},
   "source": [
    "## Day3"
   ]
  },
  {
   "cell_type": "code",
   "execution_count": 1,
   "metadata": {},
   "outputs": [],
   "source": [
    "import re"
   ]
  },
  {
   "cell_type": "code",
   "execution_count": null,
   "metadata": {},
   "outputs": [
    {
     "data": {
      "text/plain": [
       "170778545"
      ]
     },
     "execution_count": 18,
     "metadata": {},
     "output_type": "execute_result"
    }
   ],
   "source": [
    "sum([int(a[4:]) * int(b[:-1]) for a, b in list(map(lambda x: x.split(\",\"), re.findall(r\"mul\\(\\d{1,3},\\d{1,3}\\)\", \"\".join(open(\"data/input3.txt\").readlines()))))])"
   ]
  },
  {
   "cell_type": "code",
   "execution_count": 42,
   "metadata": {},
   "outputs": [
    {
     "data": {
      "text/plain": [
       "82868252"
      ]
     },
     "execution_count": 42,
     "metadata": {},
     "output_type": "execute_result"
    }
   ],
   "source": [
    "sum(\n",
    "    [int(a[4:]) * int(b[:-1]) for a, b in \\\n",
    "        list(\n",
    "            map(\n",
    "                lambda x: x.split(\",\"), \\\n",
    "                re.findall(\n",
    "                    r\"mul\\(\\d{1,3},\\d{1,3}\\)\", \\\n",
    "                    re.sub(\n",
    "                        r\"don't\\(\\)(?:mul\\(\\d{1,3},\\d{1,3}\\))*\",\n",
    "                        \"\",\n",
    "                        \"\".join(\n",
    "                            list(\n",
    "                                re.findall(\n",
    "                                    r\"mul\\(\\d{1,3},\\d{1,3}\\)|do\\(\\)|don't\\(\\)\", \\\n",
    "                                    \"\".join(open(\"data/input3.txt\").readlines())\n",
    "                                )\n",
    "                            )\n",
    "                        ) \n",
    "                    )\n",
    "                )\n",
    "            )\n",
    "        )\n",
    "    ]\n",
    ")"
   ]
  },
  {
   "cell_type": "code",
   "execution_count": 43,
   "metadata": {},
   "outputs": [
    {
     "data": {
      "text/plain": [
       "82868252"
      ]
     },
     "execution_count": 43,
     "metadata": {},
     "output_type": "execute_result"
    }
   ],
   "source": [
    "sum([int(a[4:]) * int(b[:-1]) for a, b in list(map(lambda x: x.split(\",\"), re.findall(r\"mul\\(\\d{1,3},\\d{1,3}\\)\", re.sub(r\"don't\\(\\)(?:mul\\(\\d{1,3},\\d{1,3}\\))*\", \"\", \"\".join(list(re.findall(r\"mul\\(\\d{1,3},\\d{1,3}\\)|do\\(\\)|don't\\(\\)\", \"\".join(open(\"data/input3.txt\").readlines()))))))))])"
   ]
  },
  {
   "cell_type": "markdown",
   "metadata": {},
   "source": [
    "## Day4"
   ]
  },
  {
   "cell_type": "code",
   "execution_count": 1,
   "metadata": {},
   "outputs": [],
   "source": [
    "import numpy as np"
   ]
  },
  {
   "cell_type": "code",
   "execution_count": 2,
   "metadata": {},
   "outputs": [
    {
     "data": {
      "text/plain": [
       "'MMMSXXMASM\\nMSAMXMSMSA\\nAMXSXMAAMM\\nMSAMASMSMX\\nXMASAMXAMM\\nXXAMMXXAMA\\nSMSMSASXSS\\nSAXAMASAAA\\nMAMMMXMMMM\\nMXMXAXMASX'"
      ]
     },
     "execution_count": 2,
     "metadata": {},
     "output_type": "execute_result"
    }
   ],
   "source": [
    "test_input = \"\"\"MMMSXXMASM\n",
    "MSAMXMSMSA\n",
    "AMXSXMAAMM\n",
    "MSAMASMSMX\n",
    "XMASAMXAMM\n",
    "XXAMMXXAMA\n",
    "SMSMSASXSS\n",
    "SAXAMASAAA\n",
    "MAMMMXMMMM\n",
    "MXMXAXMASX\"\"\"\n",
    "test_input"
   ]
  },
  {
   "cell_type": "code",
   "execution_count": null,
   "metadata": {},
   "outputs": [
    {
     "data": {
      "text/plain": [
       "8"
      ]
     },
     "execution_count": 35,
     "metadata": {},
     "output_type": "execute_result"
    }
   ],
   "source": [
    "arr = np.array([[x for x in y] for y in test_input.split(\"\\n\")])\n",
    "find = np.array([\"X\", \"M\", \"A\", \"S\"])\n",
    "\n",
    "\n",
    "## All diagonals\n",
    "sum([np.sum([[np.all(find == x[0]) for x in a] for a in np.lib.stride_tricks.sliding_window_view(np.rot90(arr, n), (1, 4))]) for n in range(4)])"
   ]
  },
  {
   "cell_type": "code",
   "execution_count": null,
   "metadata": {},
   "outputs": [
    {
     "name": "stdout",
     "output_type": "stream",
     "text": [
      "['X' 'M' 'A' 'S'] ['X' 'M' 'A' 'S']\n",
      "['X' 'M' 'A' 'S'] ['X' 'M' 'A' 'S']\n",
      "['X' 'M' 'A' 'S'] ['X' 'M' 'A' 'S']\n"
     ]
    }
   ],
   "source": [
    "for a in np.lib.stride_tricks.sliding_window_view(arr, (1, 4)):\n",
    "    for x in a:\n",
    "        b = x[0]   \n",
    "        if np.all(b == find):\n",
    "            print(b, find)"
   ]
  },
  {
   "cell_type": "code",
   "execution_count": 38,
   "metadata": {},
   "outputs": [
    {
     "data": {
      "text/plain": [
       "((10, 10),\n",
       " array([['M', 'M', 'M', 'S', 'X', 'X', 'M', 'A', 'S', 'M'],\n",
       "        ['M', 'S', 'A', 'M', 'X', 'M', 'S', 'M', 'S', 'A'],\n",
       "        ['A', 'M', 'X', 'S', 'X', 'M', 'A', 'A', 'M', 'M'],\n",
       "        ['M', 'S', 'A', 'M', 'A', 'S', 'M', 'S', 'M', 'X'],\n",
       "        ['X', 'M', 'A', 'S', 'A', 'M', 'X', 'A', 'M', 'M'],\n",
       "        ['X', 'X', 'A', 'M', 'M', 'X', 'X', 'A', 'M', 'A'],\n",
       "        ['S', 'M', 'S', 'M', 'S', 'A', 'S', 'X', 'S', 'S'],\n",
       "        ['S', 'A', 'X', 'A', 'M', 'A', 'S', 'A', 'A', 'A'],\n",
       "        ['M', 'A', 'M', 'M', 'M', 'X', 'M', 'M', 'M', 'M'],\n",
       "        ['M', 'X', 'M', 'X', 'A', 'X', 'M', 'A', 'S', 'X']], dtype='<U1'))"
      ]
     },
     "execution_count": 38,
     "metadata": {},
     "output_type": "execute_result"
    }
   ],
   "source": [
    "arr.shape, arr"
   ]
  },
  {
   "cell_type": "code",
   "execution_count": null,
   "metadata": {},
   "outputs": [
    {
     "data": {
      "text/plain": [
       "[array(['S', 'A', 'M', 'X'], dtype='<U1'),\n",
       " array(['X', 'M', 'X', 'M', 'A'], dtype='<U1'),\n",
       " array(['X', 'X', 'S', 'A', 'M', 'X'], dtype='<U1'),\n",
       " array(['M', 'M', 'A', 'M', 'M', 'X', 'M'], dtype='<U1'),\n",
       " array(['A', 'S', 'A', 'M', 'S', 'A', 'M', 'A'], dtype='<U1'),\n",
       " array(['M', 'M', 'A', 'S', 'M', 'A', 'S', 'M', 'S'], dtype='<U1'),\n",
       " array(['M', 'S', 'X', 'M', 'A', 'X', 'S', 'A', 'M', 'X'], dtype='<U1'),\n",
       " array(['M', 'A', 'S', 'A', 'M', 'X', 'X', 'A', 'M'], dtype='<U1'),\n",
       " array(['M', 'M', 'X', 'S', 'X', 'A', 'S', 'A'], dtype='<U1'),\n",
       " array(['S', 'X', 'M', 'M', 'A', 'M', 'S'], dtype='<U1'),\n",
       " array(['X', 'M', 'A', 'S', 'M', 'A'], dtype='<U1'),\n",
       " array(['X', 'S', 'A', 'M', 'M'], dtype='<U1'),\n",
       " array(['M', 'M', 'M', 'X'], dtype='<U1')]"
      ]
     },
     "execution_count": 46,
     "metadata": {},
     "output_type": "execute_result"
    }
   ],
   "source": [
    "[np.diagonal(arr, i) for i in range(-arr.shape[0]+4, arr.shape[0]-3)] # find xmas within and add other 4 rotations"
   ]
  }
 ],
 "metadata": {
  "kernelspec": {
   "display_name": "Python 3",
   "language": "python",
   "name": "python3"
  },
  "language_info": {
   "codemirror_mode": {
    "name": "ipython",
    "version": 3
   },
   "file_extension": ".py",
   "mimetype": "text/x-python",
   "name": "python",
   "nbconvert_exporter": "python",
   "pygments_lexer": "ipython3",
   "version": "3.12.1"
  }
 },
 "nbformat": 4,
 "nbformat_minor": 2
}
